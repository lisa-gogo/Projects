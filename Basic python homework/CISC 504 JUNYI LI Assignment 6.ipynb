{
 "cells": [
  {
   "cell_type": "markdown",
   "metadata": {},
   "source": [
    "# Assignment 6\n",
    "# Please don’t forhet rename it with your name and assignment number\n",
    "# Please submit 5 minutes recording with compressed format.\n",
    "# Dont name the programs with file names\n",
    "# dont use the Excercise Headings\n",
    "# submit code and recodging of running program.\n",
    "# Run the program and then save this file and submit this file."
   ]
  },
  {
   "cell_type": "markdown",
   "metadata": {},
   "source": [
    "# 6.1 Please dont read src/files/xy.dat instead create your own f(x) = g(x) explained during the class, g(x) can be any expnontial or parabolic function. choose your own range of f(x) but more then 300 points from any range.\n",
    "\n",
    "# Save these points to file and read your own file as data."
   ]
  },
  {
   "cell_type": "code",
   "execution_count": 153,
   "metadata": {},
   "outputs": [],
   "source": [
    "#f(x) created\n",
    " \n",
    "def f(x):\n",
    "    return x**2+1\n",
    "\n",
    "n=10\n",
    "xlist=[i for i in range(n)]\n",
    "ylist=[f(x) for x in xlist]\n",
    "\n",
    "pairs=zip(xlist,ylist)\n",
    "files = open('function.dat',\"w\")\n",
    "for pair in pairs:\n",
    "    files.write(str(pair))\n",
    "files.close()\n",
    "    \n"
   ]
  },
  {
   "cell_type": "code",
   "execution_count": 154,
   "metadata": {},
   "outputs": [
    {
     "name": "stdout",
     "output_type": "stream",
     "text": [
      "[(0.0, 1.0), (1.0, 2.0), (2.0, 5.0), (3.0, 10.0), (4.0, 17.0), (5.0, 26.0), (6.0, 37.0), (7.0, 50.0), (8.0, 65.0), (9.0, 8.0)]\n"
     ]
    }
   ],
   "source": [
    "fileRead=open('function.dat',\"r\").readlines()\n",
    "\n",
    "pairs=[]\n",
    "for line in fileRead:\n",
    "    words=line.split(')(')\n",
    "    words[0]=words[0][1:]\n",
    "    words[-1]=words[-1][:-2]# strip off() for first and last\n",
    "\n",
    "for word in words:\n",
    "    n1,n2=word.split(',')\n",
    "    n1=float(n1);n2=float(n2)\n",
    "    pair=(n1,n2)\n",
    "    pairs.append(pair)\n",
    "print(pairs)"
   ]
  },
  {
   "cell_type": "markdown",
   "metadata": {},
   "source": [
    "# 6.2 you can take help of this excercise to understand more, however you need to create dictionary of todays weather of any five cities of us, check weather from any weather website and chose your cities. (save weather and city into file and read that into dictionary)"
   ]
  },
  {
   "cell_type": "code",
   "execution_count": 136,
   "metadata": {},
   "outputs": [
    {
     "data": {
      "text/plain": [
       "92"
      ]
     },
     "execution_count": 136,
     "metadata": {},
     "output_type": "execute_result"
    }
   ],
   "source": [
    "a={'New York':'-4°C','Boston':'-5°C','Toronto':'-4°C','Newark':'-4°C','Miami':'23°C'}\n",
    "city_weather2=open('weather2.dat','w')\n",
    "city_weather2.write(str(a))"
   ]
  },
  {
   "cell_type": "code",
   "execution_count": 137,
   "metadata": {},
   "outputs": [
    {
     "name": "stdout",
     "output_type": "stream",
     "text": [
      "{'New York': '-4°C', 'Boston': '-5°C', 'Toronto': '-4°C', 'Newark': '-4°C', 'Miami': '23°C'}\n"
     ]
    }
   ],
   "source": [
    "wt2=open('weather2.dat','r').read()\n",
    "print(wt2)"
   ]
  },
  {
   "cell_type": "markdown",
   "metadata": {},
   "source": [
    "# Write a program that read weather description, temp, pressure, humidity, sunrise\n",
    "\n",
    "# the weather API you need to use is below\n",
    "\n",
    "# https://samples.openweathermap.org/data/2.5/weather?zip=21043,us&appid=b6907d289e10d714a6e88b30761fae22\n",
    "\n",
    "# Note: change ZIP to your own location ZIP \n",
    "# Save this JSON to file and read that file that will print above required fields.\n",
    "# you can take help from the yahoo weather calculator example that explained during the session. this is also uploaded on the moodle."
   ]
  },
  {
   "cell_type": "code",
   "execution_count": 156,
   "metadata": {},
   "outputs": [
    {
     "data": {
      "text/plain": [
       "490"
      ]
     },
     "execution_count": 156,
     "metadata": {},
     "output_type": "execute_result"
    }
   ],
   "source": [
    "n='''{\"coord\":{\"lon\":-73.8776,\"lat\":40.7351},\n",
    " \"weather\":[{\"id\":601,\"main\":\"Snow\",\"description\":\"snow\",\"icon\":\"13n\"}],\n",
    " \"base\":\"stations\",\n",
    " \"main\":{\"temp\":268.37,\"feels_like\":261.45,\"temp_min\":268.15,\"temp_max\":269.15,\"pressure\":1023,\"humidity\":74},\n",
    " \"visibility\":3219,\"wind\":{\"speed\":5.66,\"deg\":70},\"snow\":{\"1h\":0.62},\"clouds\":{\"all\":90},\n",
    " \"dt\":1612143248,\"sys\":{\"type\":1,\"id\":4698,\"country\":\"US\",\"sunrise\":1612094777,\"sunset\":1612131095},\n",
    " \"timezone\":-18000,\"id\":0,\"name\":\"Elmhurst\",\"cod\":200}'''\n",
    "nyc=open('nycweather.dat','w')\n",
    "nyc.write(n)\n"
   ]
  },
  {
   "cell_type": "code",
   "execution_count": 157,
   "metadata": {},
   "outputs": [],
   "source": [
    "n2=open('nycweather.dat','r').read()\n"
   ]
  },
  {
   "cell_type": "code",
   "execution_count": 158,
   "metadata": {},
   "outputs": [
    {
     "name": "stdout",
     "output_type": "stream",
     "text": [
      "description\":\"snow\"\n",
      "temp\":268.37\n",
      "pressure\":1023\n",
      "humidity\":74\n",
      "sunrise\":1612094777\n"
     ]
    }
   ],
   "source": [
    "\n",
    "a=n2.find('description')\n",
    "des=n2[a:n2.find(',',a)]\n",
    "print(des)\n",
    "\n",
    "b=n2.find('temp')\n",
    "temp=n2[b:n2.find(',',b)]\n",
    "print(temp)\n",
    "\n",
    "c=n2.find('pressure')\n",
    "pressure=n2[c:n2.find(',',c)]\n",
    "print(pressure)\n",
    "\n",
    "d=n2.find('humidity')\n",
    "humidity=n2[d:n2.find('}',d)]\n",
    "print(humidity)\n",
    "\n",
    "e=n2.find('sunrise')\n",
    "sunrise=n2[e:n2.find(',',e)]\n",
    "print(sunrise)\n"
   ]
  },
  {
   "cell_type": "code",
   "execution_count": null,
   "metadata": {},
   "outputs": [],
   "source": []
  }
 ],
 "metadata": {
  "kernelspec": {
   "display_name": "Python 3",
   "language": "python",
   "name": "python3"
  },
  "language_info": {
   "codemirror_mode": {
    "name": "ipython",
    "version": 3
   },
   "file_extension": ".py",
   "mimetype": "text/x-python",
   "name": "python",
   "nbconvert_exporter": "python",
   "pygments_lexer": "ipython3",
   "version": "3.8.3"
  }
 },
 "nbformat": 4,
 "nbformat_minor": 2
}
