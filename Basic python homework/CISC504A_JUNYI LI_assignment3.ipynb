{
 "cells": [
  {
   "cell_type": "code",
   "execution_count": 1,
   "metadata": {},
   "outputs": [
    {
     "data": {
      "text/plain": [
       "[[0, 0, 0], [0, 0, 0], [0, 0, 0]]"
      ]
     },
     "execution_count": 1,
     "metadata": {},
     "output_type": "execute_result"
    }
   ],
   "source": [
    "\n",
    "\n",
    "# task 1\n",
    "\n",
    "def function(x,y):\n",
    "\n",
    "    return [[0 for x in range(1,x+1)] for y in range(1,y+1)]\n",
    "\n",
    "function(3,3)\n"
   ]
  },
  {
   "cell_type": "code",
   "execution_count": 6,
   "metadata": {},
   "outputs": [
    {
     "data": {
      "text/plain": [
       "[[1, 1, 1], [0, 1, 0], [0, 0, 1]]"
      ]
     },
     "execution_count": 6,
     "metadata": {},
     "output_type": "execute_result"
    }
   ],
   "source": [
    "# task 2\n",
    "\n",
    "\n",
    "def function (x,y):\n",
    "\n",
    "    return [[1 if x%y ==0 else 0 for x in range(1,x+1)]for y in range(1,y+1)]\n",
    "function(3,3)"
   ]
  },
  {
   "cell_type": "code",
   "execution_count": 9,
   "metadata": {},
   "outputs": [
    {
     "name": "stdout",
     "output_type": "stream",
     "text": [
      "the index of value is [0][0] \n",
      "the index of value is [0][1] \n",
      "the index of value is [0][2] \n",
      "the index of value is [1][1] \n",
      "the index of value is [2][2] \n"
     ]
    },
    {
     "data": {
      "text/plain": [
       "[[1, 1, 1], [0, 1, 0], [0, 0, 1]]"
      ]
     },
     "execution_count": 9,
     "metadata": {},
     "output_type": "execute_result"
    }
   ],
   "source": [
    "# task 3 when x=3, y=3\n",
    "\n",
    "x=3\n",
    "y=3\n",
    "def function(x,y):\n",
    "    return [[1 if x%y ==0 else 0 for x in range(1,x+1)]for y in range(1,y+1)]\n",
    "somelist=[[1 if x%y ==0 else 0 for x in range(1,x+1)]for y in range(1,y+1)]\n",
    "for i1 in range(len(somelist)):\n",
    "                for i2 in range(len(somelist[i1])):\n",
    "\n",
    "                       value = somelist[i1][i2]\n",
    "\n",
    "                       if(value == 1):\n",
    "\n",
    "                         print ('the index of value is [%d][%d] ' % (i1,i2))\n",
    "function(3,3)\n"
   ]
  },
  {
   "cell_type": "code",
   "execution_count": 18,
   "metadata": {},
   "outputs": [
    {
     "data": {
      "text/plain": [
       "50.26548245743669"
      ]
     },
     "execution_count": 18,
     "metadata": {},
     "output_type": "execute_result"
    }
   ],
   "source": [
    "#  Surface Area of sphere \n",
    "\n",
    "from math import pi\n",
    "\n",
    "def function (r):\n",
    "    math.pi\n",
    "    return 4*pi*r**2\n",
    "    \n",
    "function (2)\n",
    "    "
   ]
  },
  {
   "cell_type": "code",
   "execution_count": null,
   "metadata": {},
   "outputs": [],
   "source": []
  }
 ],
 "metadata": {
  "kernelspec": {
   "display_name": "Python 3",
   "language": "python",
   "name": "python3"
  },
  "language_info": {
   "codemirror_mode": {
    "name": "ipython",
    "version": 3
   },
   "file_extension": ".py",
   "mimetype": "text/x-python",
   "name": "python",
   "nbconvert_exporter": "python",
   "pygments_lexer": "ipython3",
   "version": "3.8.3"
  }
 },
 "nbformat": 4,
 "nbformat_minor": 4
}
