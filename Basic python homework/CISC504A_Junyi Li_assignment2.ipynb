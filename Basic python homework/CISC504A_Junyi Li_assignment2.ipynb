{
 "cells": [
  {
   "cell_type": "code",
   "execution_count": 1,
   "metadata": {},
   "outputs": [
    {
     "data": {
      "text/plain": [
       "2"
      ]
     },
     "execution_count": 1,
     "metadata": {},
     "output_type": "execute_result"
    }
   ],
   "source": [
    "# Exercise 1.1\n",
    "\n",
    "1+1"
   ]
  },
  {
   "cell_type": "code",
   "execution_count": 2,
   "metadata": {},
   "outputs": [
    {
     "name": "stdout",
     "output_type": "stream",
     "text": [
      "Hello, World!\n"
     ]
    }
   ],
   "source": [
    "# Exercise 1.2 \n",
    "print (\"Hello, World!\")"
   ]
  },
  {
   "cell_type": "code",
   "execution_count": 4,
   "metadata": {},
   "outputs": [
    {
     "name": "stdout",
     "output_type": "stream",
     "text": [
      "1157.6250000000002\n"
     ]
    }
   ],
   "source": [
    "# Exercise 1.6. Compute the growth of money in a bank.\n",
    "a=1000\n",
    "p=5.0\n",
    "n=3\n",
    "y= a*(1+p/100)**n\n",
    "print (y)\n"
   ]
  },
  {
   "cell_type": "code",
   "execution_count": 7,
   "metadata": {},
   "outputs": [
    {
     "name": "stdout",
     "output_type": "stream",
     "text": [
      "20.079623876267405\n"
     ]
    }
   ],
   "source": [
    "# New Excercise\n",
    "\n",
    "# Calculate BMI (Body Mass Index) formula for BMI is\n",
    "\n",
    "# Formula: weight (kg) / [height (m)]2\n",
    "\n",
    "# Weight in KG\n",
    "\n",
    "# Height in meters (You need to get hight in inches and convert into meter.)\n",
    "\n",
    "w = 56.0    # weight (kg)\n",
    "i = 65.74803   # height (inches)\n",
    "m = i/39.3701   # get hight in inches and convert into meter \n",
    "\n",
    "BMI = w/(m**2)\n",
    "\n",
    "print (BMI)\n",
    "\n"
   ]
  },
  {
   "cell_type": "code",
   "execution_count": null,
   "metadata": {},
   "outputs": [],
   "source": []
  },
  {
   "cell_type": "code",
   "execution_count": null,
   "metadata": {},
   "outputs": [],
   "source": []
  }
 ],
 "metadata": {
  "kernelspec": {
   "display_name": "Python 3",
   "language": "python",
   "name": "python3"
  },
  "language_info": {
   "codemirror_mode": {
    "name": "ipython",
    "version": 3
   },
   "file_extension": ".py",
   "mimetype": "text/x-python",
   "name": "python",
   "nbconvert_exporter": "python",
   "pygments_lexer": "ipython3",
   "version": "3.8.3"
  }
 },
 "nbformat": 4,
 "nbformat_minor": 4
}
