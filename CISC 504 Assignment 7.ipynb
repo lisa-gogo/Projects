{
 "cells": [
  {
   "cell_type": "markdown",
   "metadata": {},
   "source": [
    "# Assignment 7\n",
    "# Please don’t forhet rename it with your name and assignment number\n",
    "# Please submit 5 minutes recording with compressed format.\n",
    "# Dont name the programs with file names\n",
    "# dont use the Excercise Headings\n",
    "# submit code and recodging of running program.\n",
    "# Run the program and then save this file and submit this file."
   ]
  },
  {
   "cell_type": "markdown",
   "metadata": {},
   "source": [
    "# 7.1 Create Simple Student Class with constructor to get first name and last name"
   ]
  },
  {
   "cell_type": "code",
   "execution_count": 4,
   "metadata": {},
   "outputs": [],
   "source": [
    "class Student:\n",
    "    def __init__(self,first_name,last_name): #__init__ constructor\n",
    "        self.first_name=first_name\n",
    "        self.last_name=last_name"
   ]
  },
  {
   "cell_type": "markdown",
   "metadata": {},
   "source": [
    "# 7.2 Create Address class with the constructor to get Student Address, the parameters can be , House/Apt Number, Street, Zip, State."
   ]
  },
  {
   "cell_type": "code",
   "execution_count": 5,
   "metadata": {},
   "outputs": [],
   "source": [
    "class Address:\n",
    "    def __init__(self,Apt,Street,Zip,State):\n",
    "        self.Apt=Apt\n",
    "        self.Street=Street\n",
    "        self.Zip=Zip\n",
    "        self.State=State\n",
    "        "
   ]
  },
  {
   "cell_type": "markdown",
   "metadata": {},
   "source": [
    "# 7.3 Modify Student Class so that it will get House/Apt Number, Street, Zip, State. and save address inside the Student as dictionary\n",
    "\n",
    "# Also implement the function in student class that print all addresses in the Student Class."
   ]
  },
  {
   "cell_type": "code",
   "execution_count": 64,
   "metadata": {},
   "outputs": [
    {
     "name": "stdout",
     "output_type": "stream",
     "text": [
      "{'first_name': 'Lisa', 'last_name': 'Li', 'Apt': '2 FL', 'Street': '20 W 34th St', 'Zip': '10001', 'State': 'New York'}\n",
      "Lisa Li\n",
      "House/Apt:2 FL\n",
      "Street:20 W 34th St\n",
      "Zip:10001\n",
      "State:New York\n",
      "\n"
     ]
    }
   ],
   "source": [
    "class Student:\n",
    "    def __init__(self,first_name,last_name,Apt_number=None,Street_number=None,\n",
    "                Zip_number=None,State_address=None): #__init__ constructor\n",
    "        self.first_name=first_name\n",
    "        self.last_name=last_name\n",
    "        self.Apt=Apt_number\n",
    "        self.Street=Street_number\n",
    "        self.Zip=Zip_number\n",
    "        self.State=State_address\n",
    "\n",
    "    def add_Apt(self,Apt_place):\n",
    "        self.Apt=Apt_place\n",
    "    \n",
    "    def add_Street(self,Street_place):\n",
    "        self.Street=Street_place\n",
    "    \n",
    "    def add_Zip(self,Zip_place):\n",
    "        self.Zip=Zip_place\n",
    "    \n",
    "    def add_State(self,State_place):\n",
    "        self.State=State_place\n",
    "    \n",
    "    def print_out(self):\n",
    "        s=self.first_name+' '+self.last_name+'\\n'\n",
    "        if self.Apt is not None:\n",
    "            s+='House/Apt:%s\\n'%self.Apt\n",
    "        if self.Street is not None:\n",
    "            s+='Street:%s\\n'%self.Street\n",
    "        if self.Zip is not None:\n",
    "            s+='Zip:%s\\n'%self.Zip\n",
    "        if self.State is not None:\n",
    "            s+='State:%s\\n'%self.State\n",
    "        print(s)\n",
    "        \n",
    "     \n",
    "        \n",
    "\n",
    "p1=Student('Lisa','Li')\n",
    "\n",
    "p1.add_Apt('2 FL')\n",
    "p1.add_Street('20 W 34th St')\n",
    "p1.add_Zip('10001')\n",
    "p1.add_State('New York')\n",
    "\n",
    "print(vars(p1))\n",
    "\n",
    "p1.print_out()\n",
    "\n",
    "\n"
   ]
  },
  {
   "cell_type": "code",
   "execution_count": 105,
   "metadata": {},
   "outputs": [
    {
     "name": "stdout",
     "output_type": "stream",
     "text": [
      " <__main__.Student object at 0x10b409970><__main__.Student object at 0x10b308cd0>\n"
     ]
    }
   ],
   "source": [
    "class Student:\n",
    "    def __init__(self,first_name,last_name,Apt_number=None,Street_number=None,\n",
    "                Zip_number=None,State_address=None): #__init__ constructor\n",
    "        self.first_name=first_name\n",
    "        self.last_name=last_name\n",
    "        self.Apt=Apt_number\n",
    "        self.Street=Street_number\n",
    "        self.Zip=Zip_number\n",
    "        self.State=State_address\n",
    "        \n",
    "       \n",
    "    def add_Apt(self,Apt_place):\n",
    "        self.Apt=Apt_place\n",
    "    \n",
    "    def add_Street(self,Street_place):\n",
    "        self.Street=Street_place\n",
    "    \n",
    "    def add_Zip(self,Zip_place):\n",
    "        self.Zip=Zip_place\n",
    "    \n",
    "    def add_State(self,State_place):\n",
    "        self.State=State_place\n",
    "    \n",
    "    def print_out(self):\n",
    "        s=self.first_name+' '+self.last_name+'\\n'\n",
    "        if self.Apt is not None:\n",
    "            s+='House/Apt:%s\\n'%self.Apt\n",
    "        if self.Street is not None:\n",
    "            s+='Street:%s\\n'%self.Street\n",
    "        if self.Zip is not None:\n",
    "            s+='Zip:%s\\n'%self.Zip\n",
    "        if self.State is not None:\n",
    "            s+='State:%s\\n'%self.State\n",
    "        print(s)\n",
    "\n",
    "\n",
    "class Dictionaries:\n",
    "    def  __init__(self):\n",
    "         self.contacts={}\n",
    "    def  add(self,first_name,last_name,Apt_number=None,Street_number=None,\n",
    "                Zip_number=None,State_address=None):\n",
    "       \n",
    "         p=Student(first_name,last_name,Apt_number,Street_number,Zip_number,State_address)\n",
    "         self.contacts[first_name]=p\n",
    "    \n",
    "    def __str__(self):\n",
    "        s=' '\n",
    "        for p in sorted(self.contacts):\n",
    "            s+=str(self.contacts[p])\n",
    "        return s\n",
    "\n",
    "    def __call__(self,first_name):\n",
    "        return self.contacts[first_name]\n",
    "    \n",
    "p1=Dictionaries()\n",
    "\n",
    "p1.add('Lisa','Li',Apt_number='2 FL', Street_number='20 W 34th St',Zip_number='10001',State_address='New York')\n",
    "\n",
    "p1.add('Tom','Qu',Apt_number='1 FL', Street_number='2300 Southern Blvd',Zip_number='10460',State_address='New York')\n",
    "\n",
    "print (p1)\n",
    "\n",
    "\n"
   ]
  },
  {
   "cell_type": "markdown",
   "metadata": {},
   "source": [
    "# 7.4 Create Reacangle class, implement special function so that if we want to add two rectangles it will create another reactangle.\n",
    "# display adding two reactangles and its length and width."
   ]
  },
  {
   "cell_type": "code",
   "execution_count": 65,
   "metadata": {},
   "outputs": [
    {
     "name": "stdout",
     "output_type": "stream",
     "text": [
      "5x5\n",
      "6x6\n",
      "11x11\n"
     ]
    }
   ],
   "source": [
    "class Rectangle:\n",
    "    def __init__(self, length, width):\n",
    "        self.length = length\n",
    "        self.width = width\n",
    "\n",
    "    def __add__(self, other):\n",
    "        return Rectangle(self.length + other.length, self.width + other.width)\n",
    "\n",
    "    def __str__(self):\n",
    "        return str(self.length) + \"x\" + str(self.width)\n",
    "\n",
    "\n",
    "r1 = Rectangle(5, 5)\n",
    "r2 = Rectangle(6, 6)\n",
    "print(r1)\n",
    "print(r2)\n",
    "print(r1 + r2)\n"
   ]
  },
  {
   "cell_type": "code",
   "execution_count": null,
   "metadata": {},
   "outputs": [],
   "source": []
  }
 ],
 "metadata": {
  "kernelspec": {
   "display_name": "Python 3",
   "language": "python",
   "name": "python3"
  },
  "language_info": {
   "codemirror_mode": {
    "name": "ipython",
    "version": 3
   },
   "file_extension": ".py",
   "mimetype": "text/x-python",
   "name": "python",
   "nbconvert_exporter": "python",
   "pygments_lexer": "ipython3",
   "version": "3.8.3"
  }
 },
 "nbformat": 4,
 "nbformat_minor": 2
}
