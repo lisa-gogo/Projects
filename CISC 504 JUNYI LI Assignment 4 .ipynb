{
 "cells": [
  {
   "cell_type": "markdown",
   "metadata": {},
   "source": [
    "# Assignment 4\n",
    "# Please don’t forhet rename it with your name and assignment number\n",
    "# Embed a 5 minutes recording walking me through your code with compressed format.\n",
    "# Dont name the programs with file names\n",
    "# dont use the Excercise Headings\n",
    "# submit code and recodging of running program.\n",
    "# Run the program and then save this file and submit this file."
   ]
  },
  {
   "cell_type": "markdown",
   "metadata": {},
   "source": [
    "# 4.1"
   ]
  },
  {
   "cell_type": "code",
   "execution_count": 2,
   "metadata": {},
   "outputs": [
    {
     "name": "stdout",
     "output_type": "stream",
     "text": [
      " what is the temperature in Fahrenheit degree ?5\n",
      "the Celsius degrees= -15.0\n"
     ]
    }
   ],
   "source": [
    "'''\n",
    "Make a program that (i) asks the user for a temperature in Fahren-\n",
    "heit degrees and reads the number; \n",
    "(ii) computes the correspodning temperature in Celsius degrees; \n",
    "and (iii) prints out the temperature in the Celsius scale. Name of program file: f2c_qa.py.\n",
    "'''\n",
    "f=float(input(\" what is the temperature in Fahrenheit degree ?\"))\n",
    "c=(5*(f-32))/9\n",
    "print(\"the Celsius degrees=\",c)\n"
   ]
  },
  {
   "cell_type": "markdown",
   "metadata": {},
   "source": [
    "# 4.2"
   ]
  },
  {
   "cell_type": "code",
   "execution_count": 1,
   "metadata": {},
   "outputs": [
    {
     "data": {
      "text/plain": [
       "'\\n\\nModify the program from Exercise 4.1 such that the Fahrenheit temperature is read from the command line. \\nName of program file: f2c_cml.py.\\n'"
      ]
     },
     "execution_count": 1,
     "metadata": {},
     "output_type": "execute_result"
    }
   ],
   "source": [
    "'''\n",
    "\n",
    "Modify the program from Exercise 4.1 such that the Fahrenheit temperature is read from the command line. \n",
    "Name of program file: f2c_cml.py.\n",
    "'''\n",
    "import sys\n",
    "f=float(sys.argv[1])\n",
    "c=5.0*(f-32)/9.0\n",
    "print(\"Temperature in celsius = \",c)\n"
   ]
  },
  {
   "cell_type": "markdown",
   "metadata": {},
   "source": [
    "# 4.3"
   ]
  },
  {
   "cell_type": "code",
   "execution_count": null,
   "metadata": {},
   "outputs": [],
   "source": [
    "'''\n",
    "Extend the program from Exercise 4.2 with a try-except block to\n",
    "handle the potential error that the Fahrenheit temperature is missing on the command line. \n",
    "Name of program file: f2c_cml_exc.py.\n",
    "'''\n",
    "import sys\n",
    "\n",
    "try:\n",
    "    F=float(sys.argv[1])\n",
    "    c=(5.0/9.0)*(F-32)\n",
    "    print(\"Temperature in celsius = %.3f\" %c)\n",
    "except:\n",
    "    print('Fahrenheit temperature is missing on the command line')\n",
    "    sys.exit(1)\n"
   ]
  },
  {
   "cell_type": "markdown",
   "metadata": {},
   "source": [
    "# 4.4"
   ]
  },
  {
   "cell_type": "code",
   "execution_count": 11,
   "metadata": {},
   "outputs": [
    {
     "name": "stdout",
     "output_type": "stream",
     "text": [
      "Please enter the input here:(6,7)\n",
      "the input type is <class 'tuple'>\n"
     ]
    }
   ],
   "source": [
    "\n",
    "'''\n",
    "Make a program that asks for input from the user, apply eval to\n",
    "this input, and print out the type of the resulting object and its value.\n",
    "Test the program by providing five types of input:\n",
    "an integer, a real number, a complex number, a list, and a tuple. Name of program file: objects_qa.py.\n",
    "'''\n",
    "f=eval(input(\"Please enter the input here:\"))\n",
    "print(\"the input type is %s\"%type(f))\n"
   ]
  },
  {
   "cell_type": "markdown",
   "metadata": {},
   "source": [
    "# 4.5"
   ]
  },
  {
   "cell_type": "code",
   "execution_count": null,
   "metadata": {},
   "outputs": [],
   "source": [
    "'''\n",
    "\n",
    "Let a program store the result of applying the eval function to the\n",
    "first command-line argument. Print out the resulting object and its type. \n",
    "Run the program with different input: an integer, a real number, a list, and a tuple. (On Unix systems you need to surround the tuple expressions in quotes on the command line to avoid error message from the Unix shell.) Try the string \"this is a string\" as a command- line argument. \n",
    "    Why does this string cause problems and what is the remedy? Name of program file: objects_cml.py.\n",
    "'''\n",
    "# 4.5 type eval assignment \n",
    "import sys\n",
    "f=eval(sys.argv[1])\n",
    "print(\"the input type is %s\"%type(f))\n"
   ]
  },
  {
   "cell_type": "markdown",
   "metadata": {},
   "source": [
    "# 4.6"
   ]
  },
  {
   "cell_type": "code",
   "execution_count": 14,
   "metadata": {},
   "outputs": [
    {
     "name": "stdout",
     "output_type": "stream",
     "text": [
      "Please enter the v03\n",
      "please enter the t3\n",
      "the y is -35.145\n"
     ]
    }
   ],
   "source": [
    "'''\n",
    "v0 = 3; g = 9.81; t = 0.6\n",
    "  y = v0*t - 0.5*g*t**2\n",
    "  print y\n",
    "'''\n",
    "v0=eval(input(\"Please enter the v0\"))\n",
    "t=eval(input(\"please enter the t\"))\n",
    "g=9.81\n",
    "y = v0*t - 0.5*g*t**2\n",
    "print(\"the y is %.3f\"%y)"
   ]
  },
  {
   "cell_type": "markdown",
   "metadata": {},
   "source": [
    "# 4.7"
   ]
  },
  {
   "cell_type": "code",
   "execution_count": null,
   "metadata": {},
   "outputs": [],
   "source": [
    "'''\n",
    "Modify the program listed in Exercise 4.6 such that v0 and t are\n",
    "read from the command line. Name of program file: ball_cml.py.\n",
    "'''\n",
    "#4.7 \n",
    "import sys\n",
    "v0=eval(sys.argv[1])\n",
    "t=eval(sys.argv[2])\n",
    "g=9.81\n",
    "y = v0*t - 0.5*g*t**2\n",
    "print(\"the y is %.3f\"%y)\n",
    "\n"
   ]
  },
  {
   "cell_type": "markdown",
   "metadata": {},
   "source": [
    "# 4.8"
   ]
  },
  {
   "cell_type": "code",
   "execution_count": null,
   "metadata": {},
   "outputs": [],
   "source": [
    "'''\n",
    "The program from Exercise 4.7 reads input from the command line. \n",
    "Extend that program with exception handling such that miss- ing command-line arguments are detected.\n",
    "In the except IndexError block, \n",
    "use the raw_input function to ask the user for missing input data.\n",
    "Name of program file: ball_cml_qa.py.\n",
    "\n",
    "'''\n",
    "# Exercise 4.8\n",
    "\n",
    "import sys\n",
    "try:\n",
    "   v0=eval(sys.argv[1])\n",
    "except IndexError:\n",
    "    print(\"You forgot to enter the v0\")\n",
    "    v0=eval(input(\"Please enter the v0\"))\n",
    "    \n",
    "try:\n",
    "    t=eval(sys.argv[2])\n",
    "except IndexError:\n",
    "    print(\"You forgot to enter the t\")\n",
    "    t=eval(input(\"please enter the t\"))\n",
    "g=9.81\n",
    "y = v0*t - 0.5*g*t**2\n",
    "print(\"the y is %.3f\"%y)\n"
   ]
  },
  {
   "cell_type": "code",
   "execution_count": null,
   "metadata": {},
   "outputs": [],
   "source": [
    "#4.9\n",
    "'''\n",
    "Test if the t value read in the program from Exercise 4.7 lies between 0 and 2v0/g. \n",
    "If not, print a message and abort execution. Name of program file: ball_cml_errorcheck.py.\n",
    "'''\n",
    "# Exercise 4.9\n",
    "\n",
    "import sys\n",
    "try:\n",
    "   v0=eval(sys.argv[1])\n",
    "except IndexError:\n",
    "    print(\"You forgot to enter the v0\")\n",
    "    v0=eval(input(\"Please enter the v0\"))\n",
    "    \n",
    "try:\n",
    "    t=eval(sys.argv[2])\n",
    "except IndexError:\n",
    "    print(\"You forgot to enter the t\")\n",
    "    t=eval(input(\"please enter the t\"))\n",
    "g=9.81\n",
    "x=float(2.0*v0/g)\n",
    "\n",
    "if t>0 and t<x:\n",
    "    y = v0*t - 0.5*g*t**2\n",
    "    print(\"the y is %.3f\"%y)\n",
    "print (\"Your entered value t is out of range\")\n",
    "\n"
   ]
  },
  {
   "cell_type": "markdown",
   "metadata": {},
   "source": [
    "# 4.10"
   ]
  },
  {
   "cell_type": "code",
   "execution_count": null,
   "metadata": {},
   "outputs": [],
   "source": [
    "'''\n",
    "Instead of printing an error message and aborting the program ex-\n",
    "plicitly, raise a ValueError exception in the if test on legal t values in the program from Exercise 4.9.\n",
    "Include the legal interval for t in the exception message.\n",
    "Name of program file: ball_cml_ValueError.py.\n",
    "'''\n",
    "# Exercise 4.10\n",
    "\n",
    "import sys\n",
    "try:\n",
    "   v0=eval(sys.argv[1])\n",
    "except IndexError:\n",
    "    print(\"You forgot to enter the v0\")\n",
    "    v0=eval(input(\"Please enter the v0\"))\n",
    "    \n",
    "try:\n",
    "    t=eval(sys.argv[2])\n",
    "except IndexError:\n",
    "    print(\"You forgot to enter the t\")\n",
    "    t=eval(input(\"please enter the t\"))\n",
    "g=9.81\n",
    "x=float(2.0*v0/g)\n",
    "\n",
    "if t<0 or t>x:\n",
    "    raise ValueError(\"Your value t is out of range[0,%0.3f]\"%x)\n",
    "    sys.exit(1)\n",
    "    \n",
    "y = v0*t - 0.5*g*t**2\n",
    "print(\"the y is %.3f\"%y)\n"
   ]
  },
  {
   "cell_type": "code",
   "execution_count": null,
   "metadata": {},
   "outputs": [],
   "source": []
  },
  {
   "cell_type": "markdown",
   "metadata": {},
   "source": [
    "# 4.12"
   ]
  },
  {
   "cell_type": "code",
   "execution_count": null,
   "metadata": {},
   "outputs": [],
   "source": [
    "'''\n",
    "The purpose of this exercise is to make a program which takes a\n",
    "date, consisting of year (4 digits), month (2 digits),\n",
    "and day (1-31) on the command line and prints the corresponding name of the weekday (Monday, Tuesday, etc.).\n",
    "Python has a module calendar, which you must look up in the Python Library Reference (see Chapter 2.6.3), \n",
    "for calculating the weekday of a date. Name of program file: weekday.py.\n",
    "\n",
    "'''\n",
    "\n",
    "from calendar import weekday, day_name\n",
    "import sys\n",
    "year=int(sys.argv[1])\n",
    "month=int(sys.argv[2])\n",
    "day=int(sys.argv[3])\n",
    "\n",
    "result=day_name[weekday(year,month,day)]\n",
    "print(\"year is%d  month=%d day=%d represent %s\"%(year, month, day, result))\n"
   ]
  },
  {
   "cell_type": "markdown",
   "metadata": {},
   "source": [
    "# Create a program that count number of specific words in the file, also total number of words\n",
    "\n",
    "for Example if file contain data.text :\n",
    "\n",
    "word word word string string\n",
    "\n",
    "output\n",
    "\n",
    "total 6\n",
    "\n",
    "\n",
    "if we call this program as countword.py word\n",
    "\n",
    "output\n",
    "\n",
    "word 3\n",
    "\n",
    "total 6"
   ]
  },
  {
   "cell_type": "code",
   "execution_count": 18,
   "metadata": {},
   "outputs": [
    {
     "name": "stdout",
     "output_type": "stream",
     "text": [
      "{'today': 1, 'is': 2, 'good': 2, 'day': 1, 'we': 1, 'can': 1, 'go': 1, 'shopping': 3, 'but': 1, 'needs': 1, 'a': 1, 'lot': 1, 'of': 1, 'money': 1, 'therefore': 1, 'not': 1, 'thing': 1}\n",
      "total number of words is 21\n"
     ]
    }
   ],
   "source": [
    "text='''\n",
    "Today is good day. \n",
    "We can go shopping, but shopping needs a lot of money. \n",
    "Therefore, shopping is not good thing.\n",
    "'''\n",
    "\n",
    "for char in \",.\":\n",
    "    text=text.replace(char,\"\")\n",
    "text=text.lower()\n",
    "words = text.split()\n",
    "d={}\n",
    "for word in words: \n",
    "    d[word] =d.get(word,0) + 1\n",
    "print(d)\n",
    "total=len(words)\n",
    "print(\"total number of words is %d\"%total)\n",
    "\n",
    "            "
   ]
  },
  {
   "cell_type": "code",
   "execution_count": null,
   "metadata": {},
   "outputs": [],
   "source": []
  }
 ],
 "metadata": {
  "kernelspec": {
   "display_name": "Python 3",
   "language": "python",
   "name": "python3"
  },
  "language_info": {
   "codemirror_mode": {
    "name": "ipython",
    "version": 3
   },
   "file_extension": ".py",
   "mimetype": "text/x-python",
   "name": "python",
   "nbconvert_exporter": "python",
   "pygments_lexer": "ipython3",
   "version": "3.8.3"
  }
 },
 "nbformat": 4,
 "nbformat_minor": 2
}
