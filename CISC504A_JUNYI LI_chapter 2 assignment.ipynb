{
 "cells": [
  {
   "cell_type": "code",
   "execution_count": 9,
   "metadata": {},
   "outputs": [
    {
     "data": {
      "text/plain": [
       "[[0, 0, 0], [0, 0, 0], [0, 0, 0]]"
      ]
     },
     "execution_count": 9,
     "metadata": {},
     "output_type": "execute_result"
    }
   ],
   "source": [
    "#week 2 assignment \n",
    "# task 1\n",
    "\n",
    "x=3\n",
    "y=3\n",
    "a=x+1\n",
    "b=y+1\n",
    "[[0 for x in range(1,a)] for y in range(1,b)]"
   ]
  },
  {
   "cell_type": "code",
   "execution_count": 10,
   "metadata": {},
   "outputs": [
    {
     "data": {
      "text/plain": [
       "[[0, 0, 0, 0], [0, 0, 0, 0], [0, 0, 0, 0], [0, 0, 0, 0]]"
      ]
     },
     "execution_count": 10,
     "metadata": {},
     "output_type": "execute_result"
    }
   ],
   "source": [
    "x=4\n",
    "y=4\n",
    "a=x+1\n",
    "b=y+1\n",
    "[[0 for x in range(1,a)] for y in range(1,b)]"
   ]
  },
  {
   "cell_type": "code",
   "execution_count": 12,
   "metadata": {},
   "outputs": [
    {
     "data": {
      "text/plain": [
       "[[0, 0, 0, 0], [1, 0, 1, 0], [1, 1, 0, 1], [1, 1, 1, 0]]"
      ]
     },
     "execution_count": 12,
     "metadata": {},
     "output_type": "execute_result"
    }
   ],
   "source": [
    "# task 2\n",
    "\n",
    "a=x+1\n",
    "b=y+1\n",
    "x=4\n",
    "y=4\n",
    "[[1 if x%y !=0 else 0 for x in range(1,a)]for y in range(1,b)]"
   ]
  },
  {
   "cell_type": "code",
   "execution_count": 17,
   "metadata": {},
   "outputs": [
    {
     "name": "stdout",
     "output_type": "stream",
     "text": [
      "the index of value is [1][0] \n",
      "the index of value is [1][2] \n",
      "the index of value is [2][0] \n",
      "the index of value is [2][1] \n",
      "the index of value is [2][3] \n",
      "the index of value is [3][0] \n",
      "the index of value is [3][1] \n",
      "the index of value is [3][2] \n"
     ]
    }
   ],
   "source": [
    "# task 3 when x=3, y=3\n",
    "\n",
    "a=x+1\n",
    "b=y+1\n",
    "x=3\n",
    "y=3\n",
    "somelist=[[1 if x%y !=0 else 0 for x in range(1,a)]for y in range(1,b)]\n",
    "for i1 in range(len(somelist)):\n",
    "                for i2 in range(len(somelist[i1])):\n",
    "\n",
    "                       value = somelist[i1][i2]\n",
    "\n",
    "                       if(value == 1):\n",
    "\n",
    "                         print ('the index of value is [%d][%d] ' % (i1,i2))\n"
   ]
  },
  {
   "cell_type": "code",
   "execution_count": 16,
   "metadata": {},
   "outputs": [
    {
     "name": "stdout",
     "output_type": "stream",
     "text": [
      "the index of value is [1][0] \n",
      "the index of value is [1][2] \n",
      "the index of value is [2][0] \n",
      "the index of value is [2][1] \n",
      "the index of value is [2][3] \n",
      "the index of value is [3][0] \n",
      "the index of value is [3][1] \n",
      "the index of value is [3][2] \n"
     ]
    }
   ],
   "source": [
    "# task 3 when x=4, y=4\n",
    "a=x+1\n",
    "b=y+1\n",
    "x=4\n",
    "y=4\n",
    "somelist=[[1 if x%y !=0 else 0 for x in range(1,a)]for y in range(1,b)]\n",
    "for i1 in range(len(somelist)):\n",
    "                for i2 in range(len(somelist[i1])):\n",
    "\n",
    "                       value = somelist[i1][i2]\n",
    "\n",
    "                       if(value == 1):\n",
    "\n",
    "                         print ('the index of value is [%d][%d] ' % (i1,i2))"
   ]
  },
  {
   "cell_type": "code",
   "execution_count": null,
   "metadata": {},
   "outputs": [],
   "source": []
  }
 ],
 "metadata": {
  "kernelspec": {
   "display_name": "Python 3",
   "language": "python",
   "name": "python3"
  },
  "language_info": {
   "codemirror_mode": {
    "name": "ipython",
    "version": 3
   },
   "file_extension": ".py",
   "mimetype": "text/x-python",
   "name": "python",
   "nbconvert_exporter": "python",
   "pygments_lexer": "ipython3",
   "version": "3.8.3"
  }
 },
 "nbformat": 4,
 "nbformat_minor": 4
}
