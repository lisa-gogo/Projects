{
 "cells": [
  {
   "cell_type": "markdown",
   "metadata": {},
   "source": [
    "# Final Project -Online Shopper Intention Analysis using Clustering and Classification techniques  ( Junyi Li )"
   ]
  },
  {
   "cell_type": "code",
   "execution_count": 28,
   "metadata": {},
   "outputs": [],
   "source": [
    "# ppt 15 pages\n",
    "#9 minutes, each one must present 7 minutes, report PDF , html "
   ]
  },
  {
   "cell_type": "code",
   "execution_count": 29,
   "metadata": {},
   "outputs": [],
   "source": [
    "from sklearn.preprocessing import StandardScaler\n",
    "from sklearn.cluster import KMeans\n",
    "import pandas as pd\n",
    "import numpy as np\n",
    "from itertools import cycle, islice\n",
    "import matplotlib.pyplot as plt\n",
    "from pandas.plotting import parallel_coordinates\n",
    "import seaborn as sns\n"
   ]
  },
  {
   "cell_type": "code",
   "execution_count": 30,
   "metadata": {},
   "outputs": [],
   "source": [
    "%matplotlib inline\n",
    "from sklearn import preprocessing\n",
    "from scipy.spatial import distance_matrix\n",
    "from sklearn.tree import DecisionTreeClassifier\n",
    "from sklearn.model_selection import train_test_split, GridSearchCV\n",
    "from sklearn import metrics\n",
    "np.random.seed(66)"
   ]
  },
  {
   "cell_type": "markdown",
   "metadata": {},
   "source": [
    "### 1. First, let take a look at our dataset \n",
    "The dataset consists of 10 numerical and 8 categorical attributes.\n",
    "The 'Revenue' attribute can be used as the class label. y\n",
    "\n",
    "\"Administrative” means page visitied.\n",
    " \n",
    "\"Administrative Duration” means time was spent.\n",
    "\n",
    "\"Informational” means page visitied. \n",
    "\n",
    "\"Informational Duration” means time spent.\n",
    "\n",
    "\"Product Related”: means pages visitied.\n",
    "\n",
    "\"Product Related Duration\" means time spent. \n",
    "\n",
    "\"Bounce Rate\" feature for a web page refers to the percentage of visitors who enter the site from that page and then leave (\"bounce\") without triggering any other requests to the analytics server during that session. \n",
    "\n",
    "The value of \"Exit Rate\" feature for a specific web page is calculated as for all pageviews to the page, the percentage that were the last in the session. \n",
    "\n",
    "The \"Page Value\" feature represents the average value for a web page that a user visited before completing an e-commerce transaction. \n",
    "\n",
    "The \"Special Day\" feature indicates the closeness of the site visiting time to a specific special day (e.g. Mother’s Day, Valentine's Day) in which the sessions are more likely to be finalized with transaction. The value of this attribute is determined by considering the dynamics of e-commerce such as the duration between the order date and delivery date. For example, for Valentina’s day, this value takes a nonzero value between February 2 and February 12, zero before and after this date unless it is close to another special day, and its maximum value of 1 on February 8.\n",
    "\n",
    "The dataset also includes operating system, browser, region, traffic type, visitor type as returning or new visitor, a Boolean value indicating whether the date of the visit is weekend, and month of the year."
   ]
  },
  {
   "cell_type": "code",
   "execution_count": 31,
   "metadata": {},
   "outputs": [
    {
     "name": "stdout",
     "output_type": "stream",
     "text": [
      "<class 'pandas.core.frame.DataFrame'>\n",
      "RangeIndex: 12330 entries, 0 to 12329\n",
      "Data columns (total 18 columns):\n",
      " #   Column                   Non-Null Count  Dtype  \n",
      "---  ------                   --------------  -----  \n",
      " 0   Administrative           12330 non-null  int64  \n",
      " 1   Administrative_Duration  12330 non-null  float64\n",
      " 2   Informational            12330 non-null  int64  \n",
      " 3   Informational_Duration   12330 non-null  float64\n",
      " 4   ProductRelated           12330 non-null  int64  \n",
      " 5   ProductRelated_Duration  12330 non-null  float64\n",
      " 6   BounceRates              12330 non-null  float64\n",
      " 7   ExitRates                12330 non-null  float64\n",
      " 8   PageValues               12330 non-null  float64\n",
      " 9   SpecialDay               12330 non-null  float64\n",
      " 10  Month                    12330 non-null  object \n",
      " 11  OperatingSystems         12330 non-null  int64  \n",
      " 12  Browser                  12330 non-null  int64  \n",
      " 13  Region                   12330 non-null  int64  \n",
      " 14  TrafficType              12330 non-null  int64  \n",
      " 15  VisitorType              12330 non-null  object \n",
      " 16  Weekend                  12330 non-null  bool   \n",
      " 17  Revenue                  12330 non-null  bool   \n",
      "dtypes: bool(2), float64(7), int64(7), object(2)\n",
      "memory usage: 1.5+ MB\n"
     ]
    }
   ],
   "source": [
    "consumer= pd.read_csv('online_shoppers_intention.csv')\n",
    "consumer.info()"
   ]
  },
  {
   "cell_type": "code",
   "execution_count": 32,
   "metadata": {},
   "outputs": [
    {
     "data": {
      "text/plain": [
       "Administrative             0\n",
       "Administrative_Duration    0\n",
       "Informational              0\n",
       "Informational_Duration     0\n",
       "ProductRelated             0\n",
       "ProductRelated_Duration    0\n",
       "BounceRates                0\n",
       "ExitRates                  0\n",
       "PageValues                 0\n",
       "SpecialDay                 0\n",
       "Month                      0\n",
       "OperatingSystems           0\n",
       "Browser                    0\n",
       "Region                     0\n",
       "TrafficType                0\n",
       "VisitorType                0\n",
       "Weekend                    0\n",
       "Revenue                    0\n",
       "dtype: int64"
      ]
     },
     "execution_count": 32,
     "metadata": {},
     "output_type": "execute_result"
    }
   ],
   "source": [
    "# know the missing value\n",
    "consumer.isna().sum()"
   ]
  },
  {
   "cell_type": "markdown",
   "metadata": {},
   "source": [
    "As we can see there is no missing values. Then how about duplicate number ? "
   ]
  },
  {
   "cell_type": "code",
   "execution_count": 33,
   "metadata": {},
   "outputs": [
    {
     "data": {
      "text/html": [
       "<div>\n",
       "<style scoped>\n",
       "    .dataframe tbody tr th:only-of-type {\n",
       "        vertical-align: middle;\n",
       "    }\n",
       "\n",
       "    .dataframe tbody tr th {\n",
       "        vertical-align: top;\n",
       "    }\n",
       "\n",
       "    .dataframe thead th {\n",
       "        text-align: right;\n",
       "    }\n",
       "</style>\n",
       "<table border=\"1\" class=\"dataframe\">\n",
       "  <thead>\n",
       "    <tr style=\"text-align: right;\">\n",
       "      <th></th>\n",
       "      <th>Administrative</th>\n",
       "      <th>Administrative_Duration</th>\n",
       "      <th>Informational</th>\n",
       "      <th>Informational_Duration</th>\n",
       "      <th>ProductRelated</th>\n",
       "      <th>ProductRelated_Duration</th>\n",
       "      <th>BounceRates</th>\n",
       "      <th>ExitRates</th>\n",
       "      <th>PageValues</th>\n",
       "      <th>SpecialDay</th>\n",
       "      <th>Month</th>\n",
       "      <th>OperatingSystems</th>\n",
       "      <th>Browser</th>\n",
       "      <th>Region</th>\n",
       "      <th>TrafficType</th>\n",
       "      <th>VisitorType</th>\n",
       "      <th>Weekend</th>\n",
       "      <th>Revenue</th>\n",
       "    </tr>\n",
       "  </thead>\n",
       "  <tbody>\n",
       "    <tr>\n",
       "      <th>158</th>\n",
       "      <td>0</td>\n",
       "      <td>0.0</td>\n",
       "      <td>0</td>\n",
       "      <td>0.0</td>\n",
       "      <td>1</td>\n",
       "      <td>0.0</td>\n",
       "      <td>0.2</td>\n",
       "      <td>0.2</td>\n",
       "      <td>0.0</td>\n",
       "      <td>0.0</td>\n",
       "      <td>Feb</td>\n",
       "      <td>1</td>\n",
       "      <td>1</td>\n",
       "      <td>1</td>\n",
       "      <td>3</td>\n",
       "      <td>Returning_Visitor</td>\n",
       "      <td>False</td>\n",
       "      <td>False</td>\n",
       "    </tr>\n",
       "    <tr>\n",
       "      <th>159</th>\n",
       "      <td>0</td>\n",
       "      <td>0.0</td>\n",
       "      <td>0</td>\n",
       "      <td>0.0</td>\n",
       "      <td>1</td>\n",
       "      <td>0.0</td>\n",
       "      <td>0.2</td>\n",
       "      <td>0.2</td>\n",
       "      <td>0.0</td>\n",
       "      <td>0.0</td>\n",
       "      <td>Feb</td>\n",
       "      <td>3</td>\n",
       "      <td>2</td>\n",
       "      <td>3</td>\n",
       "      <td>3</td>\n",
       "      <td>Returning_Visitor</td>\n",
       "      <td>False</td>\n",
       "      <td>False</td>\n",
       "    </tr>\n",
       "    <tr>\n",
       "      <th>178</th>\n",
       "      <td>0</td>\n",
       "      <td>0.0</td>\n",
       "      <td>0</td>\n",
       "      <td>0.0</td>\n",
       "      <td>1</td>\n",
       "      <td>0.0</td>\n",
       "      <td>0.2</td>\n",
       "      <td>0.2</td>\n",
       "      <td>0.0</td>\n",
       "      <td>0.0</td>\n",
       "      <td>Feb</td>\n",
       "      <td>3</td>\n",
       "      <td>2</td>\n",
       "      <td>3</td>\n",
       "      <td>3</td>\n",
       "      <td>Returning_Visitor</td>\n",
       "      <td>False</td>\n",
       "      <td>False</td>\n",
       "    </tr>\n",
       "    <tr>\n",
       "      <th>418</th>\n",
       "      <td>0</td>\n",
       "      <td>0.0</td>\n",
       "      <td>0</td>\n",
       "      <td>0.0</td>\n",
       "      <td>1</td>\n",
       "      <td>0.0</td>\n",
       "      <td>0.2</td>\n",
       "      <td>0.2</td>\n",
       "      <td>0.0</td>\n",
       "      <td>0.0</td>\n",
       "      <td>Mar</td>\n",
       "      <td>1</td>\n",
       "      <td>1</td>\n",
       "      <td>1</td>\n",
       "      <td>1</td>\n",
       "      <td>Returning_Visitor</td>\n",
       "      <td>True</td>\n",
       "      <td>False</td>\n",
       "    </tr>\n",
       "    <tr>\n",
       "      <th>456</th>\n",
       "      <td>0</td>\n",
       "      <td>0.0</td>\n",
       "      <td>0</td>\n",
       "      <td>0.0</td>\n",
       "      <td>1</td>\n",
       "      <td>0.0</td>\n",
       "      <td>0.2</td>\n",
       "      <td>0.2</td>\n",
       "      <td>0.0</td>\n",
       "      <td>0.0</td>\n",
       "      <td>Mar</td>\n",
       "      <td>2</td>\n",
       "      <td>2</td>\n",
       "      <td>4</td>\n",
       "      <td>1</td>\n",
       "      <td>Returning_Visitor</td>\n",
       "      <td>False</td>\n",
       "      <td>False</td>\n",
       "    </tr>\n",
       "    <tr>\n",
       "      <th>...</th>\n",
       "      <td>...</td>\n",
       "      <td>...</td>\n",
       "      <td>...</td>\n",
       "      <td>...</td>\n",
       "      <td>...</td>\n",
       "      <td>...</td>\n",
       "      <td>...</td>\n",
       "      <td>...</td>\n",
       "      <td>...</td>\n",
       "      <td>...</td>\n",
       "      <td>...</td>\n",
       "      <td>...</td>\n",
       "      <td>...</td>\n",
       "      <td>...</td>\n",
       "      <td>...</td>\n",
       "      <td>...</td>\n",
       "      <td>...</td>\n",
       "      <td>...</td>\n",
       "    </tr>\n",
       "    <tr>\n",
       "      <th>11934</th>\n",
       "      <td>0</td>\n",
       "      <td>0.0</td>\n",
       "      <td>0</td>\n",
       "      <td>0.0</td>\n",
       "      <td>1</td>\n",
       "      <td>0.0</td>\n",
       "      <td>0.2</td>\n",
       "      <td>0.2</td>\n",
       "      <td>0.0</td>\n",
       "      <td>0.0</td>\n",
       "      <td>Dec</td>\n",
       "      <td>1</td>\n",
       "      <td>1</td>\n",
       "      <td>1</td>\n",
       "      <td>2</td>\n",
       "      <td>New_Visitor</td>\n",
       "      <td>False</td>\n",
       "      <td>False</td>\n",
       "    </tr>\n",
       "    <tr>\n",
       "      <th>11938</th>\n",
       "      <td>0</td>\n",
       "      <td>0.0</td>\n",
       "      <td>0</td>\n",
       "      <td>0.0</td>\n",
       "      <td>1</td>\n",
       "      <td>0.0</td>\n",
       "      <td>0.2</td>\n",
       "      <td>0.2</td>\n",
       "      <td>0.0</td>\n",
       "      <td>0.0</td>\n",
       "      <td>Dec</td>\n",
       "      <td>1</td>\n",
       "      <td>1</td>\n",
       "      <td>4</td>\n",
       "      <td>1</td>\n",
       "      <td>Returning_Visitor</td>\n",
       "      <td>True</td>\n",
       "      <td>False</td>\n",
       "    </tr>\n",
       "    <tr>\n",
       "      <th>12159</th>\n",
       "      <td>0</td>\n",
       "      <td>0.0</td>\n",
       "      <td>0</td>\n",
       "      <td>0.0</td>\n",
       "      <td>1</td>\n",
       "      <td>0.0</td>\n",
       "      <td>0.2</td>\n",
       "      <td>0.2</td>\n",
       "      <td>0.0</td>\n",
       "      <td>0.0</td>\n",
       "      <td>Dec</td>\n",
       "      <td>1</td>\n",
       "      <td>1</td>\n",
       "      <td>1</td>\n",
       "      <td>3</td>\n",
       "      <td>Returning_Visitor</td>\n",
       "      <td>False</td>\n",
       "      <td>False</td>\n",
       "    </tr>\n",
       "    <tr>\n",
       "      <th>12180</th>\n",
       "      <td>0</td>\n",
       "      <td>0.0</td>\n",
       "      <td>0</td>\n",
       "      <td>0.0</td>\n",
       "      <td>1</td>\n",
       "      <td>0.0</td>\n",
       "      <td>0.2</td>\n",
       "      <td>0.2</td>\n",
       "      <td>0.0</td>\n",
       "      <td>0.0</td>\n",
       "      <td>Dec</td>\n",
       "      <td>1</td>\n",
       "      <td>13</td>\n",
       "      <td>9</td>\n",
       "      <td>20</td>\n",
       "      <td>Returning_Visitor</td>\n",
       "      <td>False</td>\n",
       "      <td>False</td>\n",
       "    </tr>\n",
       "    <tr>\n",
       "      <th>12185</th>\n",
       "      <td>0</td>\n",
       "      <td>0.0</td>\n",
       "      <td>0</td>\n",
       "      <td>0.0</td>\n",
       "      <td>1</td>\n",
       "      <td>0.0</td>\n",
       "      <td>0.2</td>\n",
       "      <td>0.2</td>\n",
       "      <td>0.0</td>\n",
       "      <td>0.0</td>\n",
       "      <td>Dec</td>\n",
       "      <td>8</td>\n",
       "      <td>13</td>\n",
       "      <td>9</td>\n",
       "      <td>20</td>\n",
       "      <td>Other</td>\n",
       "      <td>False</td>\n",
       "      <td>False</td>\n",
       "    </tr>\n",
       "  </tbody>\n",
       "</table>\n",
       "<p>125 rows × 18 columns</p>\n",
       "</div>"
      ],
      "text/plain": [
       "       Administrative  Administrative_Duration  Informational  \\\n",
       "158                 0                      0.0              0   \n",
       "159                 0                      0.0              0   \n",
       "178                 0                      0.0              0   \n",
       "418                 0                      0.0              0   \n",
       "456                 0                      0.0              0   \n",
       "...               ...                      ...            ...   \n",
       "11934               0                      0.0              0   \n",
       "11938               0                      0.0              0   \n",
       "12159               0                      0.0              0   \n",
       "12180               0                      0.0              0   \n",
       "12185               0                      0.0              0   \n",
       "\n",
       "       Informational_Duration  ProductRelated  ProductRelated_Duration  \\\n",
       "158                       0.0               1                      0.0   \n",
       "159                       0.0               1                      0.0   \n",
       "178                       0.0               1                      0.0   \n",
       "418                       0.0               1                      0.0   \n",
       "456                       0.0               1                      0.0   \n",
       "...                       ...             ...                      ...   \n",
       "11934                     0.0               1                      0.0   \n",
       "11938                     0.0               1                      0.0   \n",
       "12159                     0.0               1                      0.0   \n",
       "12180                     0.0               1                      0.0   \n",
       "12185                     0.0               1                      0.0   \n",
       "\n",
       "       BounceRates  ExitRates  PageValues  SpecialDay Month  OperatingSystems  \\\n",
       "158            0.2        0.2         0.0         0.0   Feb                 1   \n",
       "159            0.2        0.2         0.0         0.0   Feb                 3   \n",
       "178            0.2        0.2         0.0         0.0   Feb                 3   \n",
       "418            0.2        0.2         0.0         0.0   Mar                 1   \n",
       "456            0.2        0.2         0.0         0.0   Mar                 2   \n",
       "...            ...        ...         ...         ...   ...               ...   \n",
       "11934          0.2        0.2         0.0         0.0   Dec                 1   \n",
       "11938          0.2        0.2         0.0         0.0   Dec                 1   \n",
       "12159          0.2        0.2         0.0         0.0   Dec                 1   \n",
       "12180          0.2        0.2         0.0         0.0   Dec                 1   \n",
       "12185          0.2        0.2         0.0         0.0   Dec                 8   \n",
       "\n",
       "       Browser  Region  TrafficType        VisitorType  Weekend  Revenue  \n",
       "158          1       1            3  Returning_Visitor    False    False  \n",
       "159          2       3            3  Returning_Visitor    False    False  \n",
       "178          2       3            3  Returning_Visitor    False    False  \n",
       "418          1       1            1  Returning_Visitor     True    False  \n",
       "456          2       4            1  Returning_Visitor    False    False  \n",
       "...        ...     ...          ...                ...      ...      ...  \n",
       "11934        1       1            2        New_Visitor    False    False  \n",
       "11938        1       4            1  Returning_Visitor     True    False  \n",
       "12159        1       1            3  Returning_Visitor    False    False  \n",
       "12180       13       9           20  Returning_Visitor    False    False  \n",
       "12185       13       9           20              Other    False    False  \n",
       "\n",
       "[125 rows x 18 columns]"
      ]
     },
     "execution_count": 33,
     "metadata": {},
     "output_type": "execute_result"
    }
   ],
   "source": [
    "# We check duplicate number\n",
    "consumerDuplicate=consumer[consumer.duplicated()]\n",
    "consumerDuplicate "
   ]
  },
  {
   "cell_type": "markdown",
   "metadata": {},
   "source": [
    "Total dataset is 12,330, but duplicate number is only 125. We are no very sure whether they are accidently same. and their sample size is very small. Therefore, it is better that we not delete them. "
   ]
  },
  {
   "cell_type": "code",
   "execution_count": 34,
   "metadata": {},
   "outputs": [
    {
     "data": {
      "text/html": [
       "<div>\n",
       "<style scoped>\n",
       "    .dataframe tbody tr th:only-of-type {\n",
       "        vertical-align: middle;\n",
       "    }\n",
       "\n",
       "    .dataframe tbody tr th {\n",
       "        vertical-align: top;\n",
       "    }\n",
       "\n",
       "    .dataframe thead th {\n",
       "        text-align: right;\n",
       "    }\n",
       "</style>\n",
       "<table border=\"1\" class=\"dataframe\">\n",
       "  <thead>\n",
       "    <tr style=\"text-align: right;\">\n",
       "      <th></th>\n",
       "      <th>Administrative</th>\n",
       "      <th>Administrative_Duration</th>\n",
       "      <th>Informational</th>\n",
       "      <th>Informational_Duration</th>\n",
       "      <th>ProductRelated</th>\n",
       "      <th>ProductRelated_Duration</th>\n",
       "      <th>BounceRates</th>\n",
       "      <th>ExitRates</th>\n",
       "      <th>PageValues</th>\n",
       "      <th>SpecialDay</th>\n",
       "      <th>OperatingSystems</th>\n",
       "      <th>Browser</th>\n",
       "      <th>Region</th>\n",
       "      <th>TrafficType</th>\n",
       "    </tr>\n",
       "  </thead>\n",
       "  <tbody>\n",
       "    <tr>\n",
       "      <th>count</th>\n",
       "      <td>12330.000000</td>\n",
       "      <td>12330.000000</td>\n",
       "      <td>12330.000000</td>\n",
       "      <td>12330.000000</td>\n",
       "      <td>12330.000000</td>\n",
       "      <td>12330.000000</td>\n",
       "      <td>12330.000000</td>\n",
       "      <td>12330.000000</td>\n",
       "      <td>12330.000000</td>\n",
       "      <td>12330.000000</td>\n",
       "      <td>12330.000000</td>\n",
       "      <td>12330.000000</td>\n",
       "      <td>12330.000000</td>\n",
       "      <td>12330.000000</td>\n",
       "    </tr>\n",
       "    <tr>\n",
       "      <th>mean</th>\n",
       "      <td>2.315166</td>\n",
       "      <td>80.818611</td>\n",
       "      <td>0.503569</td>\n",
       "      <td>34.472398</td>\n",
       "      <td>31.731468</td>\n",
       "      <td>1194.746220</td>\n",
       "      <td>0.022191</td>\n",
       "      <td>0.043073</td>\n",
       "      <td>5.889258</td>\n",
       "      <td>0.061427</td>\n",
       "      <td>2.124006</td>\n",
       "      <td>2.357097</td>\n",
       "      <td>3.147364</td>\n",
       "      <td>4.069586</td>\n",
       "    </tr>\n",
       "    <tr>\n",
       "      <th>std</th>\n",
       "      <td>3.321784</td>\n",
       "      <td>176.779107</td>\n",
       "      <td>1.270156</td>\n",
       "      <td>140.749294</td>\n",
       "      <td>44.475503</td>\n",
       "      <td>1913.669288</td>\n",
       "      <td>0.048488</td>\n",
       "      <td>0.048597</td>\n",
       "      <td>18.568437</td>\n",
       "      <td>0.198917</td>\n",
       "      <td>0.911325</td>\n",
       "      <td>1.717277</td>\n",
       "      <td>2.401591</td>\n",
       "      <td>4.025169</td>\n",
       "    </tr>\n",
       "    <tr>\n",
       "      <th>min</th>\n",
       "      <td>0.000000</td>\n",
       "      <td>0.000000</td>\n",
       "      <td>0.000000</td>\n",
       "      <td>0.000000</td>\n",
       "      <td>0.000000</td>\n",
       "      <td>0.000000</td>\n",
       "      <td>0.000000</td>\n",
       "      <td>0.000000</td>\n",
       "      <td>0.000000</td>\n",
       "      <td>0.000000</td>\n",
       "      <td>1.000000</td>\n",
       "      <td>1.000000</td>\n",
       "      <td>1.000000</td>\n",
       "      <td>1.000000</td>\n",
       "    </tr>\n",
       "    <tr>\n",
       "      <th>25%</th>\n",
       "      <td>0.000000</td>\n",
       "      <td>0.000000</td>\n",
       "      <td>0.000000</td>\n",
       "      <td>0.000000</td>\n",
       "      <td>7.000000</td>\n",
       "      <td>184.137500</td>\n",
       "      <td>0.000000</td>\n",
       "      <td>0.014286</td>\n",
       "      <td>0.000000</td>\n",
       "      <td>0.000000</td>\n",
       "      <td>2.000000</td>\n",
       "      <td>2.000000</td>\n",
       "      <td>1.000000</td>\n",
       "      <td>2.000000</td>\n",
       "    </tr>\n",
       "    <tr>\n",
       "      <th>50%</th>\n",
       "      <td>1.000000</td>\n",
       "      <td>7.500000</td>\n",
       "      <td>0.000000</td>\n",
       "      <td>0.000000</td>\n",
       "      <td>18.000000</td>\n",
       "      <td>598.936905</td>\n",
       "      <td>0.003112</td>\n",
       "      <td>0.025156</td>\n",
       "      <td>0.000000</td>\n",
       "      <td>0.000000</td>\n",
       "      <td>2.000000</td>\n",
       "      <td>2.000000</td>\n",
       "      <td>3.000000</td>\n",
       "      <td>2.000000</td>\n",
       "    </tr>\n",
       "    <tr>\n",
       "      <th>75%</th>\n",
       "      <td>4.000000</td>\n",
       "      <td>93.256250</td>\n",
       "      <td>0.000000</td>\n",
       "      <td>0.000000</td>\n",
       "      <td>38.000000</td>\n",
       "      <td>1464.157213</td>\n",
       "      <td>0.016813</td>\n",
       "      <td>0.050000</td>\n",
       "      <td>0.000000</td>\n",
       "      <td>0.000000</td>\n",
       "      <td>3.000000</td>\n",
       "      <td>2.000000</td>\n",
       "      <td>4.000000</td>\n",
       "      <td>4.000000</td>\n",
       "    </tr>\n",
       "    <tr>\n",
       "      <th>max</th>\n",
       "      <td>27.000000</td>\n",
       "      <td>3398.750000</td>\n",
       "      <td>24.000000</td>\n",
       "      <td>2549.375000</td>\n",
       "      <td>705.000000</td>\n",
       "      <td>63973.522230</td>\n",
       "      <td>0.200000</td>\n",
       "      <td>0.200000</td>\n",
       "      <td>361.763742</td>\n",
       "      <td>1.000000</td>\n",
       "      <td>8.000000</td>\n",
       "      <td>13.000000</td>\n",
       "      <td>9.000000</td>\n",
       "      <td>20.000000</td>\n",
       "    </tr>\n",
       "  </tbody>\n",
       "</table>\n",
       "</div>"
      ],
      "text/plain": [
       "       Administrative  Administrative_Duration  Informational  \\\n",
       "count    12330.000000             12330.000000   12330.000000   \n",
       "mean         2.315166                80.818611       0.503569   \n",
       "std          3.321784               176.779107       1.270156   \n",
       "min          0.000000                 0.000000       0.000000   \n",
       "25%          0.000000                 0.000000       0.000000   \n",
       "50%          1.000000                 7.500000       0.000000   \n",
       "75%          4.000000                93.256250       0.000000   \n",
       "max         27.000000              3398.750000      24.000000   \n",
       "\n",
       "       Informational_Duration  ProductRelated  ProductRelated_Duration  \\\n",
       "count            12330.000000    12330.000000             12330.000000   \n",
       "mean                34.472398       31.731468              1194.746220   \n",
       "std                140.749294       44.475503              1913.669288   \n",
       "min                  0.000000        0.000000                 0.000000   \n",
       "25%                  0.000000        7.000000               184.137500   \n",
       "50%                  0.000000       18.000000               598.936905   \n",
       "75%                  0.000000       38.000000              1464.157213   \n",
       "max               2549.375000      705.000000             63973.522230   \n",
       "\n",
       "        BounceRates     ExitRates    PageValues    SpecialDay  \\\n",
       "count  12330.000000  12330.000000  12330.000000  12330.000000   \n",
       "mean       0.022191      0.043073      5.889258      0.061427   \n",
       "std        0.048488      0.048597     18.568437      0.198917   \n",
       "min        0.000000      0.000000      0.000000      0.000000   \n",
       "25%        0.000000      0.014286      0.000000      0.000000   \n",
       "50%        0.003112      0.025156      0.000000      0.000000   \n",
       "75%        0.016813      0.050000      0.000000      0.000000   \n",
       "max        0.200000      0.200000    361.763742      1.000000   \n",
       "\n",
       "       OperatingSystems       Browser        Region   TrafficType  \n",
       "count      12330.000000  12330.000000  12330.000000  12330.000000  \n",
       "mean           2.124006      2.357097      3.147364      4.069586  \n",
       "std            0.911325      1.717277      2.401591      4.025169  \n",
       "min            1.000000      1.000000      1.000000      1.000000  \n",
       "25%            2.000000      2.000000      1.000000      2.000000  \n",
       "50%            2.000000      2.000000      3.000000      2.000000  \n",
       "75%            3.000000      2.000000      4.000000      4.000000  \n",
       "max            8.000000     13.000000      9.000000     20.000000  "
      ]
     },
     "execution_count": 34,
     "metadata": {},
     "output_type": "execute_result"
    }
   ],
   "source": [
    "consumer.describe()"
   ]
  },
  {
   "cell_type": "markdown",
   "metadata": {},
   "source": [
    "As we can see, Adninistrative_duration, Informational_Duration, ProductRelated_Duration,ProductRelated have high stds. Besides, their max number are much larger than the 75% number. It is better to remove their outliers."
   ]
  },
  {
   "cell_type": "markdown",
   "metadata": {},
   "source": [
    "### 2. pre-processing and clear the data"
   ]
  },
  {
   "cell_type": "markdown",
   "metadata": {},
   "source": [
    "#### 2.1 Outlier Removal"
   ]
  },
  {
   "cell_type": "code",
   "execution_count": 35,
   "metadata": {},
   "outputs": [
    {
     "name": "stdout",
     "output_type": "stream",
     "text": [
      "IgnoreInformational_Duration outlier\n",
      "Min Informational_Duration : 0.0,\n",
      "Max Informational_Duration : 716.3899999999921\n",
      ".............\n",
      "IgnoreAdministrative_Duration outlier\n",
      "Min Administrative_Duration : 0.0,\n",
      "Max Administrative_Duration : 822.7616667000001\n",
      ".............\n",
      "IgnoreProductRelated_Duration outlier\n",
      "Min ProductRelated_Duration : 0.0,\n",
      "Max ProductRelated_Duration : 8223.33579624001\n",
      ".............\n",
      "IgnoreProductRelated outlier\n",
      "Min ProductRelated : 0.0,\n",
      "Max ProductRelated : 161.0\n",
      ".............\n"
     ]
    }
   ],
   "source": [
    "list_=['Informational_Duration',\"Administrative_Duration\",\"ProductRelated_Duration\",'ProductRelated']\n",
    "for i in list_:\n",
    "    min_, max_=consumer[i].quantile([0, 0.99])\n",
    "    consumer= consumer[consumer[i] <= max_]\n",
    "    print(f'Ignore{i} outlier')\n",
    "    print(f'Min {i} : {min_},\\nMax {i} : {max_}')\n",
    "    print('.............')\n",
    "    "
   ]
  },
  {
   "cell_type": "markdown",
   "metadata": {},
   "source": [
    "#### 2.2 For better analysis, We change the value of weekend and revenue from boolean to 1 or 0. ( 1's indicates weekends and 0's means not weekend. )\n",
    "\n",
    "For Visitor Type, which includes 'Returning_Visitor' and 'New_Visitor', to 1 and 0 respectly. (1's indicates returning visitor, and 0's indicates new visitor.)\n",
    "\n",
    "Besides, we change the month values to int"
   ]
  },
  {
   "cell_type": "code",
   "execution_count": 36,
   "metadata": {},
   "outputs": [],
   "source": [
    "# We change the value of weekend and revenue from bloon to 1 or 0. \n",
    "#1's indicates weekends and 0's means not weekend. \n",
    "consumer[\"Weekend\"] = consumer[\"Weekend\"].astype(int)\n",
    "consumer['Revenue'] = consumer[\"Revenue\"].astype(int)\n",
    "\n",
    "# We change Visitor Type, which includes 'Returning_Visitor' and 'New_Visitor', to 1 and 0 respectly.\n",
    "#1's indicates returning visitor, while 0's indicates new visitor.\n",
    "c_type={'Returning_Visitor':1,'New_Visitor':0,'Other':0.5}\n",
    "for x in c_type.keys():\n",
    "    consumer['VisitorType'].replace(to_replace=x, value=c_type.get(x),inplace=True)\n",
    "\n",
    "\n",
    "# In order to see clearly, we change the Month value to int\n",
    "months={'Jan':1,'Feb':2,'Mar':3,'Apr':4,'May':5,'June':6,'Jul':7,'Aug':8,'Sep':9,'Oct':10,'Nov':11,'Dec':12}\n",
    "\n",
    "for x in months.keys():\n",
    "    consumer['Month'].replace(to_replace=x, value=months.get(x),inplace=True)\n",
    "\n"
   ]
  },
  {
   "cell_type": "code",
   "execution_count": 37,
   "metadata": {},
   "outputs": [
    {
     "name": "stdout",
     "output_type": "stream",
     "text": [
      "<class 'pandas.core.frame.DataFrame'>\n",
      "Int64Index: 11843 entries, 0 to 12329\n",
      "Data columns (total 18 columns):\n",
      " #   Column                   Non-Null Count  Dtype  \n",
      "---  ------                   --------------  -----  \n",
      " 0   Administrative           11843 non-null  int64  \n",
      " 1   Administrative_Duration  11843 non-null  float64\n",
      " 2   Informational            11843 non-null  int64  \n",
      " 3   Informational_Duration   11843 non-null  float64\n",
      " 4   ProductRelated           11843 non-null  int64  \n",
      " 5   ProductRelated_Duration  11843 non-null  float64\n",
      " 6   BounceRates              11843 non-null  float64\n",
      " 7   ExitRates                11843 non-null  float64\n",
      " 8   PageValues               11843 non-null  float64\n",
      " 9   SpecialDay               11843 non-null  float64\n",
      " 10  Month                    11843 non-null  int64  \n",
      " 11  OperatingSystems         11843 non-null  int64  \n",
      " 12  Browser                  11843 non-null  int64  \n",
      " 13  Region                   11843 non-null  int64  \n",
      " 14  TrafficType              11843 non-null  int64  \n",
      " 15  VisitorType              11843 non-null  float64\n",
      " 16  Weekend                  11843 non-null  int64  \n",
      " 17  Revenue                  11843 non-null  int64  \n",
      "dtypes: float64(8), int64(10)\n",
      "memory usage: 1.7 MB\n"
     ]
    }
   ],
   "source": [
    "consumer.info()"
   ]
  },
  {
   "cell_type": "markdown",
   "metadata": {},
   "source": [
    "Now, we have very clean dataset for us to do analyss."
   ]
  },
  {
   "cell_type": "markdown",
   "metadata": {},
   "source": [
    "#### 2.2  Check correlation"
   ]
  },
  {
   "cell_type": "code",
   "execution_count": 208,
   "metadata": {},
   "outputs": [
    {
     "data": {
      "image/png": "[encoded data removed]",
      "text/plain": [
       "<Figure size 1152x1008 with 2 Axes>"
      ]
     },
     "metadata": {
      "needs_background": "light"
     },
     "output_type": "display_data"
    }
   ],
   "source": [
    "# We use the heatmap to view the correlations \n",
    "import seaborn as sns\n",
    "corr = consumer.corr()\n",
    "plt.figure(figsize=(16, 14))\n",
    "sns.heatmap(corr, vmax=0.5, center=0,\n",
    "            square=True, linewidths=2, cmap='Reds')\n",
    "plt.savefig(\"heatmap.png\")\n",
    "plt.show()"
   ]
  },
  {
   "cell_type": "markdown",
   "metadata": {},
   "source": [
    "From heatmap, Revenue has the strongest correlations with pagevalues. Then it has moderate correlations with webpage visitied and duration spent on the information,administration, producted related pages. For more precise detail analysis, we use corr() function."
   ]
  },
  {
   "cell_type": "code",
   "execution_count": 38,
   "metadata": {},
   "outputs": [
    {
     "data": {
      "text/plain": [
       "ExitRates                 -0.206290\n",
       "BounceRates               -0.150183\n",
       "VisitorType               -0.114611\n",
       "SpecialDay                -0.081176\n",
       "OperatingSystems          -0.015421\n",
       "Region                    -0.005315\n",
       "TrafficType               -0.003272\n",
       "Browser                    0.024648\n",
       "Weekend                    0.033824\n",
       "Informational_Duration     0.088288\n",
       "Informational              0.090604\n",
       "Administrative_Duration    0.116099\n",
       "Month                      0.117766\n",
       "Administrative             0.131217\n",
       "ProductRelated             0.158539\n",
       "ProductRelated_Duration    0.167376\n",
       "PageValues                 0.507448\n",
       "Revenue                    1.000000\n",
       "Name: Revenue, dtype: float64"
      ]
     },
     "execution_count": 38,
     "metadata": {},
     "output_type": "execute_result"
    }
   ],
   "source": [
    "# inclues negative and positive correlation\n",
    "consumer.corr()['Revenue'].sort_values()"
   ]
  },
  {
   "cell_type": "code",
   "execution_count": 39,
   "metadata": {},
   "outputs": [
    {
     "data": {
      "text/plain": [
       "TrafficType                0.003272\n",
       "Region                     0.005315\n",
       "OperatingSystems           0.015421\n",
       "Browser                    0.024648\n",
       "Weekend                    0.033824\n",
       "SpecialDay                 0.081176\n",
       "Informational_Duration     0.088288\n",
       "Informational              0.090604\n",
       "VisitorType                0.114611\n",
       "Administrative_Duration    0.116099\n",
       "Month                      0.117766\n",
       "Administrative             0.131217\n",
       "BounceRates                0.150183\n",
       "ProductRelated             0.158539\n",
       "ProductRelated_Duration    0.167376\n",
       "ExitRates                  0.206290\n",
       "PageValues                 0.507448\n",
       "Revenue                    1.000000\n",
       "Name: Revenue, dtype: float64"
      ]
     },
     "execution_count": 39,
     "metadata": {},
     "output_type": "execute_result"
    }
   ],
   "source": [
    "# abs correlation\n",
    "consumer.corr().abs()['Revenue'].sort_values()"
   ]
  },
  {
   "cell_type": "markdown",
   "metadata": {},
   "source": [
    "#### 2. 3 We delete TrafficType, Region, Operating Systems, Brower, Weekend, as they have very low correlation with revenue.\n",
    "    "
   ]
  },
  {
   "cell_type": "code",
   "execution_count": 40,
   "metadata": {},
   "outputs": [],
   "source": [
    "consumer_clear=consumer.drop(['TrafficType','Region','OperatingSystems','Browser','Weekend'],axis=1)"
   ]
  },
  {
   "cell_type": "markdown",
   "metadata": {},
   "source": [
    "#### 2.4 Standardize dataset"
   ]
  },
  {
   "cell_type": "code",
   "execution_count": 41,
   "metadata": {},
   "outputs": [
    {
     "data": {
      "text/html": [
       "<div>\n",
       "<style scoped>\n",
       "    .dataframe tbody tr th:only-of-type {\n",
       "        vertical-align: middle;\n",
       "    }\n",
       "\n",
       "    .dataframe tbody tr th {\n",
       "        vertical-align: top;\n",
       "    }\n",
       "\n",
       "    .dataframe thead th {\n",
       "        text-align: right;\n",
       "    }\n",
       "</style>\n",
       "<table border=\"1\" class=\"dataframe\">\n",
       "  <thead>\n",
       "    <tr style=\"text-align: right;\">\n",
       "      <th></th>\n",
       "      <th>Administrative</th>\n",
       "      <th>Administrative_Duration</th>\n",
       "      <th>Informational</th>\n",
       "      <th>Informational_Duration</th>\n",
       "      <th>ProductRelated</th>\n",
       "      <th>ProductRelated_Duration</th>\n",
       "      <th>BounceRates</th>\n",
       "      <th>ExitRates</th>\n",
       "      <th>PageValues</th>\n",
       "      <th>SpecialDay</th>\n",
       "      <th>Month</th>\n",
       "      <th>VisitorType</th>\n",
       "      <th>Revenue</th>\n",
       "    </tr>\n",
       "  </thead>\n",
       "  <tbody>\n",
       "    <tr>\n",
       "      <th>0</th>\n",
       "      <td>-0.695400</td>\n",
       "      <td>-0.560135</td>\n",
       "      <td>-0.386593</td>\n",
       "      <td>-0.28511</td>\n",
       "      <td>-0.895211</td>\n",
       "      <td>-0.824421</td>\n",
       "      <td>3.590699</td>\n",
       "      <td>3.165290</td>\n",
       "      <td>-0.313074</td>\n",
       "      <td>-0.312681</td>\n",
       "      <td>-1.648510</td>\n",
       "      <td>0.413813</td>\n",
       "      <td>-0.418769</td>\n",
       "    </tr>\n",
       "    <tr>\n",
       "      <th>1</th>\n",
       "      <td>-0.695400</td>\n",
       "      <td>-0.560135</td>\n",
       "      <td>-0.386593</td>\n",
       "      <td>-0.28511</td>\n",
       "      <td>-0.860283</td>\n",
       "      <td>-0.770841</td>\n",
       "      <td>-0.463167</td>\n",
       "      <td>1.135896</td>\n",
       "      <td>-0.313074</td>\n",
       "      <td>-0.312681</td>\n",
       "      <td>-1.648510</td>\n",
       "      <td>0.413813</td>\n",
       "      <td>-0.418769</td>\n",
       "    </tr>\n",
       "    <tr>\n",
       "      <th>2</th>\n",
       "      <td>-0.695400</td>\n",
       "      <td>-0.560135</td>\n",
       "      <td>-0.386593</td>\n",
       "      <td>-0.28511</td>\n",
       "      <td>-0.895211</td>\n",
       "      <td>-0.824421</td>\n",
       "      <td>3.590699</td>\n",
       "      <td>3.165290</td>\n",
       "      <td>-0.313074</td>\n",
       "      <td>-0.312681</td>\n",
       "      <td>-1.648510</td>\n",
       "      <td>0.413813</td>\n",
       "      <td>-0.418769</td>\n",
       "    </tr>\n",
       "    <tr>\n",
       "      <th>3</th>\n",
       "      <td>-0.695400</td>\n",
       "      <td>-0.560135</td>\n",
       "      <td>-0.386593</td>\n",
       "      <td>-0.28511</td>\n",
       "      <td>-0.860283</td>\n",
       "      <td>-0.822188</td>\n",
       "      <td>0.550299</td>\n",
       "      <td>1.947653</td>\n",
       "      <td>-0.313074</td>\n",
       "      <td>-0.312681</td>\n",
       "      <td>-1.648510</td>\n",
       "      <td>0.413813</td>\n",
       "      <td>-0.418769</td>\n",
       "    </tr>\n",
       "    <tr>\n",
       "      <th>4</th>\n",
       "      <td>-0.695400</td>\n",
       "      <td>-0.560135</td>\n",
       "      <td>-0.386593</td>\n",
       "      <td>-0.28511</td>\n",
       "      <td>-0.580864</td>\n",
       "      <td>-0.299091</td>\n",
       "      <td>-0.057781</td>\n",
       "      <td>0.121199</td>\n",
       "      <td>-0.313074</td>\n",
       "      <td>-0.312681</td>\n",
       "      <td>-1.648510</td>\n",
       "      <td>0.413813</td>\n",
       "      <td>-0.418769</td>\n",
       "    </tr>\n",
       "    <tr>\n",
       "      <th>...</th>\n",
       "      <td>...</td>\n",
       "      <td>...</td>\n",
       "      <td>...</td>\n",
       "      <td>...</td>\n",
       "      <td>...</td>\n",
       "      <td>...</td>\n",
       "      <td>...</td>\n",
       "      <td>...</td>\n",
       "      <td>...</td>\n",
       "      <td>...</td>\n",
       "      <td>...</td>\n",
       "      <td>...</td>\n",
       "      <td>...</td>\n",
       "    </tr>\n",
       "    <tr>\n",
       "      <th>12325</th>\n",
       "      <td>0.296684</td>\n",
       "      <td>0.695165</td>\n",
       "      <td>-0.386593</td>\n",
       "      <td>-0.28511</td>\n",
       "      <td>0.921016</td>\n",
       "      <td>0.668930</td>\n",
       "      <td>-0.318386</td>\n",
       "      <td>-0.304353</td>\n",
       "      <td>0.342837</td>\n",
       "      <td>-0.312681</td>\n",
       "      <td>1.294805</td>\n",
       "      <td>0.413813</td>\n",
       "      <td>-0.418769</td>\n",
       "    </tr>\n",
       "    <tr>\n",
       "      <th>12326</th>\n",
       "      <td>-0.695400</td>\n",
       "      <td>-0.560135</td>\n",
       "      <td>-0.386593</td>\n",
       "      <td>-0.28511</td>\n",
       "      <td>-0.755501</td>\n",
       "      <td>-0.434505</td>\n",
       "      <td>-0.463167</td>\n",
       "      <td>-0.460561</td>\n",
       "      <td>-0.313074</td>\n",
       "      <td>-0.312681</td>\n",
       "      <td>1.000473</td>\n",
       "      <td>0.413813</td>\n",
       "      <td>-0.418769</td>\n",
       "    </tr>\n",
       "    <tr>\n",
       "      <th>12327</th>\n",
       "      <td>-0.695400</td>\n",
       "      <td>-0.560135</td>\n",
       "      <td>-0.386593</td>\n",
       "      <td>-0.28511</td>\n",
       "      <td>-0.720574</td>\n",
       "      <td>-0.670171</td>\n",
       "      <td>1.225943</td>\n",
       "      <td>0.865310</td>\n",
       "      <td>-0.313074</td>\n",
       "      <td>-0.312681</td>\n",
       "      <td>1.000473</td>\n",
       "      <td>0.413813</td>\n",
       "      <td>-0.418769</td>\n",
       "    </tr>\n",
       "    <tr>\n",
       "      <th>12328</th>\n",
       "      <td>0.627379</td>\n",
       "      <td>0.089158</td>\n",
       "      <td>-0.386593</td>\n",
       "      <td>-0.28511</td>\n",
       "      <td>-0.406227</td>\n",
       "      <td>-0.534757</td>\n",
       "      <td>-0.463167</td>\n",
       "      <td>-0.466258</td>\n",
       "      <td>-0.313074</td>\n",
       "      <td>-0.312681</td>\n",
       "      <td>1.000473</td>\n",
       "      <td>0.413813</td>\n",
       "      <td>-0.418769</td>\n",
       "    </tr>\n",
       "    <tr>\n",
       "      <th>12329</th>\n",
       "      <td>-0.695400</td>\n",
       "      <td>-0.560135</td>\n",
       "      <td>-0.386593</td>\n",
       "      <td>-0.28511</td>\n",
       "      <td>-0.825356</td>\n",
       "      <td>-0.806631</td>\n",
       "      <td>-0.463167</td>\n",
       "      <td>0.459431</td>\n",
       "      <td>-0.313074</td>\n",
       "      <td>-0.312681</td>\n",
       "      <td>1.000473</td>\n",
       "      <td>-2.451307</td>\n",
       "      <td>-0.418769</td>\n",
       "    </tr>\n",
       "  </tbody>\n",
       "</table>\n",
       "<p>11843 rows × 13 columns</p>\n",
       "</div>"
      ],
      "text/plain": [
       "       Administrative  Administrative_Duration  Informational  \\\n",
       "0           -0.695400                -0.560135      -0.386593   \n",
       "1           -0.695400                -0.560135      -0.386593   \n",
       "2           -0.695400                -0.560135      -0.386593   \n",
       "3           -0.695400                -0.560135      -0.386593   \n",
       "4           -0.695400                -0.560135      -0.386593   \n",
       "...               ...                      ...            ...   \n",
       "12325        0.296684                 0.695165      -0.386593   \n",
       "12326       -0.695400                -0.560135      -0.386593   \n",
       "12327       -0.695400                -0.560135      -0.386593   \n",
       "12328        0.627379                 0.089158      -0.386593   \n",
       "12329       -0.695400                -0.560135      -0.386593   \n",
       "\n",
       "       Informational_Duration  ProductRelated  ProductRelated_Duration  \\\n",
       "0                    -0.28511       -0.895211                -0.824421   \n",
       "1                    -0.28511       -0.860283                -0.770841   \n",
       "2                    -0.28511       -0.895211                -0.824421   \n",
       "3                    -0.28511       -0.860283                -0.822188   \n",
       "4                    -0.28511       -0.580864                -0.299091   \n",
       "...                       ...             ...                      ...   \n",
       "12325                -0.28511        0.921016                 0.668930   \n",
       "12326                -0.28511       -0.755501                -0.434505   \n",
       "12327                -0.28511       -0.720574                -0.670171   \n",
       "12328                -0.28511       -0.406227                -0.534757   \n",
       "12329                -0.28511       -0.825356                -0.806631   \n",
       "\n",
       "       BounceRates  ExitRates  PageValues  SpecialDay     Month  VisitorType  \\\n",
       "0         3.590699   3.165290   -0.313074   -0.312681 -1.648510     0.413813   \n",
       "1        -0.463167   1.135896   -0.313074   -0.312681 -1.648510     0.413813   \n",
       "2         3.590699   3.165290   -0.313074   -0.312681 -1.648510     0.413813   \n",
       "3         0.550299   1.947653   -0.313074   -0.312681 -1.648510     0.413813   \n",
       "4        -0.057781   0.121199   -0.313074   -0.312681 -1.648510     0.413813   \n",
       "...            ...        ...         ...         ...       ...          ...   \n",
       "12325    -0.318386  -0.304353    0.342837   -0.312681  1.294805     0.413813   \n",
       "12326    -0.463167  -0.460561   -0.313074   -0.312681  1.000473     0.413813   \n",
       "12327     1.225943   0.865310   -0.313074   -0.312681  1.000473     0.413813   \n",
       "12328    -0.463167  -0.466258   -0.313074   -0.312681  1.000473     0.413813   \n",
       "12329    -0.463167   0.459431   -0.313074   -0.312681  1.000473    -2.451307   \n",
       "\n",
       "        Revenue  \n",
       "0     -0.418769  \n",
       "1     -0.418769  \n",
       "2     -0.418769  \n",
       "3     -0.418769  \n",
       "4     -0.418769  \n",
       "...         ...  \n",
       "12325 -0.418769  \n",
       "12326 -0.418769  \n",
       "12327 -0.418769  \n",
       "12328 -0.418769  \n",
       "12329 -0.418769  \n",
       "\n",
       "[11843 rows x 13 columns]"
      ]
     },
     "execution_count": 41,
     "metadata": {},
     "output_type": "execute_result"
    }
   ],
   "source": [
    "\n",
    "scale= StandardScaler()\n",
    "scaled_data=scale.fit_transform(consumer_clear)\n",
    "scaled_data = pd.DataFrame(scaled_data, columns=consumer_clear.columns, index=consumer_clear.index)\n",
    "scaled_data"
   ]
  },
  {
   "cell_type": "markdown",
   "metadata": {},
   "source": [
    "## 3. Clustering "
   ]
  },
  {
   "cell_type": "markdown",
   "metadata": {},
   "source": [
    "### 3.1. Kmean method ( find the best K)"
   ]
  },
  {
   "cell_type": "code",
   "execution_count": 15,
   "metadata": {},
   "outputs": [
    {
     "data": {
      "image/png": "[encoded data removed]",
      "text/plain": [
       "<Figure size 432x288 with 1 Axes>"
      ]
     },
     "metadata": {
      "needs_background": "light"
     },
     "output_type": "display_data"
    }
   ],
   "source": [
    "kmeans_kwargs = {\"init\": \"random\",\"n_init\": 10,\"max_iter\": 300,\"random_state\": 42}\n",
    "# A list holds the SSE values for each k\n",
    "sse = []\n",
    "for k in range(1, 11):\n",
    "    kmeans = KMeans(n_clusters=k, **kmeans_kwargs)\n",
    "    kmeans.fit(scaled_data)\n",
    "    sse.append(kmeans.inertia_)\n",
    "\n",
    "plt.plot(range(1, 11), sse, 'bx-')\n",
    "plt.xticks(range(1, 11))\n",
    "plt.xlabel('k')\n",
    "plt.ylabel('sse')\n",
    "plt.title('The Elbow Method to Identify Optimal k')\n",
    "plt.show()"
   ]
  },
  {
   "cell_type": "markdown",
   "metadata": {},
   "source": [
    "We can't clearly see the elbow point. Therefore, we will use a Python package, kneed, to identify the elbow point programmatically"
   ]
  },
  {
   "cell_type": "code",
   "execution_count": 16,
   "metadata": {},
   "outputs": [
    {
     "data": {
      "text/plain": [
       "4"
      ]
     },
     "execution_count": 16,
     "metadata": {},
     "output_type": "execute_result"
    }
   ],
   "source": [
    "from kneed import DataGenerator, KneeLocator\n",
    "kl = KneeLocator(range(1, 11), sse, curve=\"convex\", direction=\"decreasing\")\n",
    "kl.elbow"
   ]
  },
  {
   "cell_type": "markdown",
   "metadata": {},
   "source": [
    "Then 4 is suitable value for kmean analysis."
   ]
  },
  {
   "cell_type": "markdown",
   "metadata": {},
   "source": [
    "Take out Revenue and PageValue, so we visualize them."
   ]
  },
  {
   "cell_type": "code",
   "execution_count": 215,
   "metadata": {},
   "outputs": [],
   "source": [
    "# only two variable: Revenue and PageValue \n",
    "from sklearn.cluster import KMeans\n",
    "import numpy as np\n",
    "# k means\n",
    "kmeans = KMeans(n_clusters=4)\n",
    "k_m=consumer.copy()\n",
    "k_m['cluster'] = kmeans.fit_predict(consumer[['Revenue', 'PageValues']])\n",
    "# get centroids\n",
    "centroids = kmeans.cluster_centers_\n",
    "cen_x = [i[0] for i in centroids] \n",
    "cen_y = [i[1] for i in centroids]\n",
    "## add to df\n",
    "k_m['cen_x'] = k_m.cluster.map({0:cen_x[0], 1:cen_x[1], 2:cen_x[2],3:cen_x[3]})\n",
    "k_m['cen_y'] = k_m.cluster.map({0:cen_y[0], 1:cen_y[1], 2:cen_y[2],3:cen_x[3]})\n",
    "# define and map colors\n",
    "colors = ['plum', 'hotpink', 'blueviolet','skyblue']\n",
    "k_m['c'] = k_m.cluster.map({0:colors[0], 1:colors[1], 2:colors[2],3:colors[3]})"
   ]
  },
  {
   "cell_type": "code",
   "execution_count": 216,
   "metadata": {},
   "outputs": [
    {
     "data": {
      "text/plain": [
       "Text(0.5, 1.0, 'Whether consumer will buy product')"
      ]
     },
     "execution_count": 216,
     "metadata": {},
     "output_type": "execute_result"
    },
    {
     "data": {
      "image/png": "[encoded data removed]",
      "text/plain": [
       "<Figure size 432x288 with 1 Axes>"
      ]
     },
     "metadata": {
      "needs_background": "light"
     },
     "output_type": "display_data"
    }
   ],
   "source": [
    "import matplotlib.pyplot as plt\n",
    "plt.scatter(k_m.Revenue, k_m.PageValues, c=k_m.c, alpha = 0.6, s=10)\n",
    "plt.xlabel('Revenue: 0 means no, 1 means yes ')\n",
    "plt.ylabel('PageValue')\n",
    "plt.title('Whether consumer will buy product')"
   ]
  },
  {
   "cell_type": "markdown",
   "metadata": {},
   "source": [
    "### 3.2  GaussianNB method"
   ]
  },
  {
   "cell_type": "markdown",
   "metadata": {},
   "source": [
    "#### 3.2.1 Split data"
   ]
  },
  {
   "cell_type": "markdown",
   "metadata": {},
   "source": [
    "#### first, we need to split the data 75% as training data, and 25% as testing data"
   ]
  },
  {
   "cell_type": "code",
   "execution_count": 66,
   "metadata": {},
   "outputs": [
    {
     "name": "stdout",
     "output_type": "stream",
     "text": [
      "train data size is (8882, 17)\n"
     ]
    }
   ],
   "source": [
    "X=consumer.drop(['Revenue'],axis=1)\n",
    "y=consumer['Revenue']\n",
    "\n",
    "X_train, X_test, y_train, y_test  = train_test_split(X, y, test_size=.25)\n",
    "print(f\"train data size is {X_train.shape}\")"
   ]
  },
  {
   "cell_type": "code",
   "execution_count": 67,
   "metadata": {},
   "outputs": [
    {
     "data": {
      "text/plain": [
       "GaussianNB()"
      ]
     },
     "execution_count": 67,
     "metadata": {},
     "output_type": "execute_result"
    }
   ],
   "source": [
    "#test\n",
    "from sklearn.naive_bayes import GaussianNB\n",
    "classifier=GaussianNB()\n",
    "classifier.fit(X_train,y_train)"
   ]
  },
  {
   "cell_type": "code",
   "execution_count": 69,
   "metadata": {},
   "outputs": [],
   "source": [
    "predictions=classifier.predict(X_test)"
   ]
  },
  {
   "cell_type": "code",
   "execution_count": 70,
   "metadata": {},
   "outputs": [
    {
     "name": "stdout",
     "output_type": "stream",
     "text": [
      "The accuracy score is 0.8311381290104695\n"
     ]
    }
   ],
   "source": [
    "#Analyze accuracy of predictions\n",
    "#sklearn.metrics.confusion_matrix(y_test,predictions)\n",
    "\n",
    "from sklearn.metrics import accuracy_score\n",
    "a=accuracy_score(y_test, predictions) \n",
    "print(f'The accuracy score is {a}')"
   ]
  },
  {
   "cell_type": "code",
   "execution_count": 71,
   "metadata": {},
   "outputs": [
    {
     "data": {
      "text/html": [
       "<div>\n",
       "<style scoped>\n",
       "    .dataframe tbody tr th:only-of-type {\n",
       "        vertical-align: middle;\n",
       "    }\n",
       "\n",
       "    .dataframe tbody tr th {\n",
       "        vertical-align: top;\n",
       "    }\n",
       "\n",
       "    .dataframe thead tr th {\n",
       "        text-align: left;\n",
       "    }\n",
       "</style>\n",
       "<table border=\"1\" class=\"dataframe\">\n",
       "  <thead>\n",
       "    <tr>\n",
       "      <th></th>\n",
       "      <th></th>\n",
       "      <th colspan=\"2\" halign=\"left\">Predict</th>\n",
       "    </tr>\n",
       "    <tr>\n",
       "      <th></th>\n",
       "      <th></th>\n",
       "      <th>0</th>\n",
       "      <th>1</th>\n",
       "    </tr>\n",
       "  </thead>\n",
       "  <tbody>\n",
       "    <tr>\n",
       "      <th rowspan=\"2\" valign=\"top\">Real</th>\n",
       "      <th>0</th>\n",
       "      <td>2204</td>\n",
       "      <td>321</td>\n",
       "    </tr>\n",
       "    <tr>\n",
       "      <th>1</th>\n",
       "      <td>179</td>\n",
       "      <td>257</td>\n",
       "    </tr>\n",
       "  </tbody>\n",
       "</table>\n",
       "</div>"
      ],
      "text/plain": [
       "       Predict     \n",
       "             0    1\n",
       "Real 0    2204  321\n",
       "     1     179  257"
      ]
     },
     "execution_count": 71,
     "metadata": {},
     "output_type": "execute_result"
    }
   ],
   "source": [
    "# confusiton matrix \n",
    "Gnb_confusion = pd.crosstab(y_test,predictions)\n",
    "Gnb_confusion.index = [['Real', 'Real'], ['0', '1']]\n",
    "Gnb_confusion.columns = [['Predict'] * 2, ['0', '1']]\n",
    "Gnb_confusion"
   ]
  },
  {
   "cell_type": "code",
   "execution_count": 72,
   "metadata": {},
   "outputs": [
    {
     "name": "stdout",
     "output_type": "stream",
     "text": [
      "              precision    recall  f1-score   support\n",
      "\n",
      "           0       0.92      0.87      0.90      2525\n",
      "           1       0.44      0.59      0.51       436\n",
      "\n",
      "    accuracy                           0.83      2961\n",
      "   macro avg       0.68      0.73      0.70      2961\n",
      "weighted avg       0.85      0.83      0.84      2961\n",
      "\n"
     ]
    }
   ],
   "source": [
    "Gnb_confusion = pd.crosstab(y_test,predictions)\n",
    "Gnb_confusion.index = [['Real', 'Real'], ['0', '1']]\n",
    "Gnb_confusion.columns = [['Predict'] * 2, ['0', '1']]\n",
    "Gnb_confusion\n",
    "print(metrics.classification_report(y_test,predictions))"
   ]
  },
  {
   "cell_type": "markdown",
   "metadata": {},
   "source": [
    "## 4. Classification "
   ]
  },
  {
   "cell_type": "markdown",
   "metadata": {},
   "source": [
    "### 4.1 Decision Tree Classification"
   ]
  },
  {
   "cell_type": "code",
   "execution_count": 75,
   "metadata": {},
   "outputs": [
    {
     "name": "stdout",
     "output_type": "stream",
     "text": [
      "Accuracy: 86.0%\n"
     ]
    }
   ],
   "source": [
    "## Model Predicting\n",
    "clf = DecisionTreeClassifier()\n",
    "clf.fit(X_train, y_train)\n",
    "y_pred = clf.predict(X_test)\n",
    "clf.tree_.max_depth\n",
    "print(f\"Accuracy: {round(metrics.accuracy_score(y_test, y_pred)*100)}%\")"
   ]
  },
  {
   "cell_type": "markdown",
   "metadata": {},
   "source": [
    "### 4.2 Tuning Hyperparameters "
   ]
  },
  {
   "cell_type": "markdown",
   "metadata": {},
   "source": [
    "4.2.1 In the following block, I will use GridSearchCV()"
   ]
  },
  {
   "cell_type": "code",
   "execution_count": 76,
   "metadata": {},
   "outputs": [
    {
     "data": {
      "text/plain": [
       "GridSearchCV(cv=10, estimator=DecisionTreeClassifier(),\n",
       "             param_grid={'criterion': ['gini', 'entropy'],\n",
       "                         'max_depth': [5, 10, 20, 25, 30],\n",
       "                         'max_leaf_nodes': [2, 5, 10, 20],\n",
       "                         'min_samples_leaf': [1, 5, 10],\n",
       "                         'min_samples_split': [2, 10, 20]},\n",
       "             scoring='accuracy')"
      ]
     },
     "execution_count": 76,
     "metadata": {},
     "output_type": "execute_result"
    }
   ],
   "source": [
    "param_grid = {'criterion': ['gini', 'entropy'],\n",
    "              'min_samples_split': [2, 10, 20],\n",
    "              'max_depth': [5, 10, 20, 25, 30],\n",
    "              'min_samples_leaf': [1, 5, 10],\n",
    "              'max_leaf_nodes': [2, 5, 10, 20]}\n",
    "grid = GridSearchCV(clf, param_grid, cv=10, scoring='accuracy')\n",
    "grid.fit(X_train, y_train)"
   ]
  },
  {
   "cell_type": "code",
   "execution_count": 77,
   "metadata": {},
   "outputs": [
    {
     "name": "stdout",
     "output_type": "stream",
     "text": [
      "The best score is 0.9048646368528258\n",
      "criterion: gini\n",
      "max_depth: 10\n",
      "max_leaf_nodes: 20\n",
      "min_samples_leaf: 1\n",
      "min_samples_split: 2\n"
     ]
    }
   ],
   "source": [
    "print(f'The best score is {grid.best_score_}')\n",
    "for hps, values in grid.best_params_.items():\n",
    "    print(f\"{hps}: {values}\")"
   ]
  },
  {
   "cell_type": "markdown",
   "metadata": {},
   "source": [
    "These nodes will give me maximum score for decision tree. "
   ]
  },
  {
   "cell_type": "code",
   "execution_count": 78,
   "metadata": {},
   "outputs": [],
   "source": [
    "grid_predict=grid.fit(X_train, y_train).predict(X_test)"
   ]
  },
  {
   "cell_type": "code",
   "execution_count": 79,
   "metadata": {},
   "outputs": [
    {
     "name": "stdout",
     "output_type": "stream",
     "text": [
      "Accuracy: 90.0%\n"
     ]
    }
   ],
   "source": [
    "print(f\"Accuracy: {round(metrics.accuracy_score(y_test,grid_predict )*100)}%\")"
   ]
  },
  {
   "cell_type": "markdown",
   "metadata": {},
   "source": [
    "Confusion matrix "
   ]
  },
  {
   "cell_type": "code",
   "execution_count": 80,
   "metadata": {},
   "outputs": [
    {
     "data": {
      "text/html": [
       "<div>\n",
       "<style scoped>\n",
       "    .dataframe tbody tr th:only-of-type {\n",
       "        vertical-align: middle;\n",
       "    }\n",
       "\n",
       "    .dataframe tbody tr th {\n",
       "        vertical-align: top;\n",
       "    }\n",
       "\n",
       "    .dataframe thead tr th {\n",
       "        text-align: left;\n",
       "    }\n",
       "</style>\n",
       "<table border=\"1\" class=\"dataframe\">\n",
       "  <thead>\n",
       "    <tr>\n",
       "      <th></th>\n",
       "      <th></th>\n",
       "      <th colspan=\"2\" halign=\"left\">Predict</th>\n",
       "    </tr>\n",
       "    <tr>\n",
       "      <th></th>\n",
       "      <th></th>\n",
       "      <th>0</th>\n",
       "      <th>1</th>\n",
       "    </tr>\n",
       "  </thead>\n",
       "  <tbody>\n",
       "    <tr>\n",
       "      <th rowspan=\"2\" valign=\"top\">Real</th>\n",
       "      <th>0</th>\n",
       "      <td>2420</td>\n",
       "      <td>105</td>\n",
       "    </tr>\n",
       "    <tr>\n",
       "      <th>1</th>\n",
       "      <td>197</td>\n",
       "      <td>239</td>\n",
       "    </tr>\n",
       "  </tbody>\n",
       "</table>\n",
       "</div>"
      ],
      "text/plain": [
       "       Predict     \n",
       "             0    1\n",
       "Real 0    2420  105\n",
       "     1     197  239"
      ]
     },
     "execution_count": 80,
     "metadata": {},
     "output_type": "execute_result"
    }
   ],
   "source": [
    "# confusiton matrix \n",
    "grid_confusion = pd.crosstab(y_test,grid_predict)\n",
    "grid_confusion.index = [['Real', 'Real'], ['0', '1']]\n",
    "grid_confusion.columns = [['Predict'] * 2, ['0', '1']]\n",
    "grid_confusion"
   ]
  },
  {
   "cell_type": "code",
   "execution_count": 81,
   "metadata": {},
   "outputs": [
    {
     "name": "stdout",
     "output_type": "stream",
     "text": [
      "              precision    recall  f1-score   support\n",
      "\n",
      "           0       0.92      0.96      0.94      2525\n",
      "           1       0.69      0.55      0.61       436\n",
      "\n",
      "    accuracy                           0.90      2961\n",
      "   macro avg       0.81      0.75      0.78      2961\n",
      "weighted avg       0.89      0.90      0.89      2961\n",
      "\n"
     ]
    }
   ],
   "source": [
    "grid_confusion = pd.crosstab(y_test,grid_predict)\n",
    "grid_confusion.index = [['Real', 'Real'], ['0', '1']]\n",
    "grid_confusion.columns = [['Predict'] * 2, ['0', '1']]\n",
    "grid_confusion\n",
    "print(metrics.classification_report(y_test,grid_predict))"
   ]
  },
  {
   "cell_type": "markdown",
   "metadata": {},
   "source": [
    "## 5.  Naive Bayes"
   ]
  },
  {
   "cell_type": "markdown",
   "metadata": {},
   "source": [
    "We will use Naive Bayes to do anther classfication"
   ]
  },
  {
   "cell_type": "code",
   "execution_count": 82,
   "metadata": {},
   "outputs": [
    {
     "name": "stdout",
     "output_type": "stream",
     "text": [
      "Accuracy: 87.0%\n"
     ]
    }
   ],
   "source": [
    "from sklearn.preprocessing import StandardScaler\n",
    "from sklearn.naive_bayes import GaussianNB, BernoulliNB, MultinomialNB\n",
    "bnb = BernoulliNB()\n",
    "bnb_pred = bnb.fit(X_train, y_train).predict(X_test)\n",
    "print(f\"Accuracy: {round(metrics.accuracy_score(y_test,bnb_pred )*100)}%\")"
   ]
  },
  {
   "cell_type": "markdown",
   "metadata": {},
   "source": [
    "Confusion Matrix "
   ]
  },
  {
   "cell_type": "code",
   "execution_count": 83,
   "metadata": {},
   "outputs": [
    {
     "data": {
      "text/html": [
       "<div>\n",
       "<style scoped>\n",
       "    .dataframe tbody tr th:only-of-type {\n",
       "        vertical-align: middle;\n",
       "    }\n",
       "\n",
       "    .dataframe tbody tr th {\n",
       "        vertical-align: top;\n",
       "    }\n",
       "\n",
       "    .dataframe thead tr th {\n",
       "        text-align: left;\n",
       "    }\n",
       "</style>\n",
       "<table border=\"1\" class=\"dataframe\">\n",
       "  <thead>\n",
       "    <tr>\n",
       "      <th></th>\n",
       "      <th></th>\n",
       "      <th colspan=\"2\" halign=\"left\">Predict</th>\n",
       "    </tr>\n",
       "    <tr>\n",
       "      <th></th>\n",
       "      <th></th>\n",
       "      <th>0</th>\n",
       "      <th>1</th>\n",
       "    </tr>\n",
       "  </thead>\n",
       "  <tbody>\n",
       "    <tr>\n",
       "      <th rowspan=\"2\" valign=\"top\">Real</th>\n",
       "      <th>0</th>\n",
       "      <td>2289</td>\n",
       "      <td>236</td>\n",
       "    </tr>\n",
       "    <tr>\n",
       "      <th>1</th>\n",
       "      <td>158</td>\n",
       "      <td>278</td>\n",
       "    </tr>\n",
       "  </tbody>\n",
       "</table>\n",
       "</div>"
      ],
      "text/plain": [
       "       Predict     \n",
       "             0    1\n",
       "Real 0    2289  236\n",
       "     1     158  278"
      ]
     },
     "execution_count": 83,
     "metadata": {},
     "output_type": "execute_result"
    }
   ],
   "source": [
    "# confusiton matrix \n",
    "nb_confusion = pd.crosstab(y_test,bnb_pred)\n",
    "nb_confusion.index = [['Real', 'Real'], ['0', '1']]\n",
    "nb_confusion.columns = [['Predict'] * 2, ['0', '1']]\n",
    "nb_confusion"
   ]
  },
  {
   "cell_type": "code",
   "execution_count": 84,
   "metadata": {},
   "outputs": [
    {
     "name": "stdout",
     "output_type": "stream",
     "text": [
      "              precision    recall  f1-score   support\n",
      "\n",
      "           0       0.94      0.91      0.92      2525\n",
      "           1       0.54      0.64      0.59       436\n",
      "\n",
      "    accuracy                           0.87      2961\n",
      "   macro avg       0.74      0.77      0.75      2961\n",
      "weighted avg       0.88      0.87      0.87      2961\n",
      "\n"
     ]
    }
   ],
   "source": [
    "nb_confusion = pd.crosstab(y_test,bnb_pred)\n",
    "nb_confusion.index = [['Real', 'Real'], ['0', '1']]\n",
    "nb_confusion.columns = [['Predict'] * 2, ['0', '1']]\n",
    "nb_confusion\n",
    "print(metrics.classification_report(y_test,bnb_pred))"
   ]
  },
  {
   "cell_type": "markdown",
   "metadata": {},
   "source": [
    "## 6 ROC  and AUC  "
   ]
  },
  {
   "cell_type": "markdown",
   "metadata": {},
   "source": [
    "From previous analysis, we know that  GaussianNB method (clustering) has accuracy 84%, Tuning Hyperparameter accuracy 90%, and Naive Bayes 86%. Therefore, Tuning Hyperparameter has the highest accuracy. I will compare these three method ROC and AUC."
   ]
  },
  {
   "cell_type": "code",
   "execution_count": 85,
   "metadata": {},
   "outputs": [],
   "source": [
    "from sklearn.metrics import roc_auc_score, roc_curve"
   ]
  },
  {
   "cell_type": "markdown",
   "metadata": {},
   "source": [
    "6.1 Prediction probabilities "
   ]
  },
  {
   "cell_type": "code",
   "execution_count": null,
   "metadata": {},
   "outputs": [],
   "source": [
    "#test\n",
    "#rf_probs = rf.predict_proba(X_test)\n",
    "#nb_probs = nb.predict_proba(X_test)"
   ]
  },
  {
   "cell_type": "code",
   "execution_count": 86,
   "metadata": {},
   "outputs": [],
   "source": [
    "Gnb_probs=classifier.predict_proba(X_test)\n",
    "grid_probs=grid.predict_proba(X_test)\n",
    "bnb_probs=bnb.predict_proba(X_test)"
   ]
  },
  {
   "cell_type": "markdown",
   "metadata": {},
   "source": [
    "Probabilities for the positive outcome is kept."
   ]
  },
  {
   "cell_type": "code",
   "execution_count": 87,
   "metadata": {},
   "outputs": [],
   "source": [
    "Gnb_probs = Gnb_probs[:, 1]\n",
    "grid_probs = grid_probs[:, 1]\n",
    "bnb_probs = bnb_probs[:, 1]"
   ]
  },
  {
   "cell_type": "markdown",
   "metadata": {},
   "source": [
    "Calculate AUROC"
   ]
  },
  {
   "cell_type": "code",
   "execution_count": 90,
   "metadata": {},
   "outputs": [
    {
     "name": "stdout",
     "output_type": "stream",
     "text": [
      "GaussianNB: AUROC = 0.836\n",
      "Tuning Hyperparameters: AUROC = 0.917\n",
      "Naive Bayes : AUROC = 0.874\n"
     ]
    }
   ],
   "source": [
    "Gnb_auc=roc_auc_score(y_test, Gnb_probs)\n",
    "grid_auc=roc_auc_score(y_test, grid_probs)\n",
    "bnb_auc=roc_auc_score(y_test, bnb_probs)\n",
    "print('GaussianNB: AUROC = %.3f' % (Gnb_auc))\n",
    "print('Tuning Hyperparameters: AUROC = %.3f' % (grid_auc))\n",
    "print('Naive Bayes : AUROC = %.3f' % (bnb_auc))\n"
   ]
  },
  {
   "cell_type": "markdown",
   "metadata": {},
   "source": [
    "Plot the ROC curve"
   ]
  },
  {
   "cell_type": "code",
   "execution_count": 91,
   "metadata": {},
   "outputs": [],
   "source": [
    "Gnb_fpr, Gnb_tpr, _ = roc_curve(y_test, Gnb_probs)\n",
    "grid_fpr, grid_tpr, _ = roc_curve(y_test, grid_probs)\n",
    "bnb_fpr, bnb_tpr, _ = roc_curve(y_test, bnb_probs)"
   ]
  },
  {
   "cell_type": "markdown",
   "metadata": {},
   "source": [
    "Plot the ROC curve"
   ]
  },
  {
   "cell_type": "code",
   "execution_count": 93,
   "metadata": {},
   "outputs": [
    {
     "data": {
      "image/png": "[encoded data removed]",
      "text/plain": [
       "<Figure size 432x288 with 1 Axes>"
      ]
     },
     "metadata": {
      "needs_background": "light"
     },
     "output_type": "display_data"
    }
   ],
   "source": [
    "plt.plot(Gnb_fpr, Gnb_tpr, marker='.', label='GaussianNB (AUROC = %0.3f)' % Gnb_auc)\n",
    "plt.plot(grid_fpr, grid_tpr, marker='.', label='Tuning Hyperparameters (AUROC = %0.3f)' % grid_auc)\n",
    "plt.plot(bnb_fpr, bnb_tpr, marker='.', label='Naive Bayes (AUROC = %0.3f)' % bnb_auc)\n",
    "\n",
    "# Title\n",
    "plt.title('ROC Plot')\n",
    "# Axis labels\n",
    "plt.xlabel('False Positive Rate')\n",
    "plt.ylabel('True Positive Rate')\n",
    "# Show legend\n",
    "plt.legend() # \n",
    "# Show plot\n",
    "plt.show()"
   ]
  },
  {
   "cell_type": "code",
   "execution_count": null,
   "metadata": {},
   "outputs": [],
   "source": []
  }
 ],
 "metadata": {
  "kernelspec": {
   "display_name": "Python 3",
   "language": "python",
   "name": "python3"
  },
  "language_info": {
   "codemirror_mode": {
    "name": "ipython",
    "version": 3
   },
   "file_extension": ".py",
   "mimetype": "text/x-python",
   "name": "python",
   "nbconvert_exporter": "python",
   "pygments_lexer": "ipython3",
   "version": "3.8.3"
  }
 },
 "nbformat": 4,
 "nbformat_minor": 4
}
