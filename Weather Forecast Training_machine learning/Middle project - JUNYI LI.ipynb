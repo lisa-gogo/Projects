{
 "cells": [
  {
   "cell_type": "markdown",
   "metadata": {},
   "source": [
    "# Middle Project :  Weather Forecast (Junyi Li)"
   ]
  },
  {
   "cell_type": "code",
   "execution_count": 1,
   "metadata": {},
   "outputs": [],
   "source": [
    "from sklearn.preprocessing import StandardScaler\n",
    "from sklearn.cluster import KMeans\n",
    "import pandas as pd\n",
    "import numpy as np\n",
    "from itertools import cycle, islice\n",
    "import matplotlib.pyplot as plt\n",
    "from pandas.plotting import parallel_coordinates\n",
    "import seaborn as sns\n"
   ]
  },
  {
   "cell_type": "code",
   "execution_count": 2,
   "metadata": {},
   "outputs": [],
   "source": [
    "%matplotlib inline\n",
    "from sklearn import preprocessing\n",
    "from scipy.spatial import distance_matrix\n",
    "from sklearn.tree import DecisionTreeClassifier\n",
    "from sklearn.model_selection import train_test_split, GridSearchCV\n",
    "from sklearn import metrics\n",
    "np.random.seed(66)"
   ]
  },
  {
   "cell_type": "markdown",
   "metadata": {},
   "source": [
    "### Open file and review training basic data "
   ]
  },
  {
   "cell_type": "code",
   "execution_count": 3,
   "metadata": {
    "scrolled": false
   },
   "outputs": [
    {
     "name": "stdout",
     "output_type": "stream",
     "text": [
      "<class 'pandas.core.frame.DataFrame'>\n",
      "RangeIndex: 51978 entries, 0 to 51977\n",
      "Data columns (total 16 columns):\n",
      " #   Column         Non-Null Count  Dtype  \n",
      "---  ------         --------------  -----  \n",
      " 0   Location       51978 non-null  object \n",
      " 1   MinTemp        51694 non-null  float64\n",
      " 2   MaxTemp        51849 non-null  float64\n",
      " 3   Rainfall       51231 non-null  float64\n",
      " 4   Evaporation    29425 non-null  float64\n",
      " 5   Sunshine       27103 non-null  float64\n",
      " 6   WindGustDir    48380 non-null  object \n",
      " 7   WindGustSpeed  48407 non-null  float64\n",
      " 8   WindDir        50465 non-null  object \n",
      " 9   WindSpeed      50954 non-null  float64\n",
      " 10  Humidity       50549 non-null  float64\n",
      " 11  Pressure       46912 non-null  float64\n",
      " 12  Cloud          31848 non-null  float64\n",
      " 13  Temp           50915 non-null  float64\n",
      " 14  RainToday      51231 non-null  object \n",
      " 15  RainTomorrow   51978 non-null  object \n",
      "dtypes: float64(11), object(5)\n",
      "memory usage: 6.3+ MB\n"
     ]
    }
   ],
   "source": [
    "w= pd.read_csv('Weather_Forecast_Training.csv')\n",
    "w.info()"
   ]
  },
  {
   "cell_type": "markdown",
   "metadata": {},
   "source": [
    "#### check Training missing value "
   ]
  },
  {
   "cell_type": "code",
   "execution_count": 4,
   "metadata": {},
   "outputs": [
    {
     "data": {
      "text/plain": [
       "Location             0\n",
       "MinTemp            284\n",
       "MaxTemp            129\n",
       "Rainfall           747\n",
       "Evaporation      22553\n",
       "Sunshine         24875\n",
       "WindGustDir       3598\n",
       "WindGustSpeed     3571\n",
       "WindDir           1513\n",
       "WindSpeed         1024\n",
       "Humidity          1429\n",
       "Pressure          5066\n",
       "Cloud            20130\n",
       "Temp              1063\n",
       "RainToday          747\n",
       "RainTomorrow         0\n",
       "dtype: int64"
      ]
     },
     "execution_count": 4,
     "metadata": {},
     "output_type": "execute_result"
    }
   ],
   "source": [
    "# know the missing value \n",
    "w.isna().sum()"
   ]
  },
  {
   "cell_type": "markdown",
   "metadata": {},
   "source": [
    "#### 1. Remove data noise & outliers"
   ]
  },
  {
   "cell_type": "code",
   "execution_count": 5,
   "metadata": {},
   "outputs": [],
   "source": [
    "#Remove data noise & outliers\n",
    "from scipy.stats.mstats import winsorize\n",
    "Col_w=['MinTemp','MaxTemp','Rainfall','Evaporation','Sunshine','WindGustSpeed','Humidity','Pressure','Cloud','Temp']\n",
    "for i in Col_w:\n",
    "    np.min(winsorize(w[i], limits=[0.1, 0.1]))\n",
    "\n",
    "for i in Col_w:\n",
    "    np.max(winsorize(w[i], limits=[0.1, 0.1]))"
   ]
  },
  {
   "cell_type": "code",
   "execution_count": 6,
   "metadata": {
    "scrolled": true
   },
   "outputs": [
    {
     "data": {
      "text/html": [
       "<div>\n",
       "<style scoped>\n",
       "    .dataframe tbody tr th:only-of-type {\n",
       "        vertical-align: middle;\n",
       "    }\n",
       "\n",
       "    .dataframe tbody tr th {\n",
       "        vertical-align: top;\n",
       "    }\n",
       "\n",
       "    .dataframe thead th {\n",
       "        text-align: right;\n",
       "    }\n",
       "</style>\n",
       "<table border=\"1\" class=\"dataframe\">\n",
       "  <thead>\n",
       "    <tr style=\"text-align: right;\">\n",
       "      <th></th>\n",
       "      <th>MinTemp</th>\n",
       "      <th>MaxTemp</th>\n",
       "      <th>Rainfall</th>\n",
       "      <th>Evaporation</th>\n",
       "      <th>Sunshine</th>\n",
       "      <th>WindGustSpeed</th>\n",
       "      <th>WindSpeed</th>\n",
       "      <th>Humidity</th>\n",
       "      <th>Pressure</th>\n",
       "      <th>Cloud</th>\n",
       "      <th>Temp</th>\n",
       "    </tr>\n",
       "  </thead>\n",
       "  <tbody>\n",
       "    <tr>\n",
       "      <th>count</th>\n",
       "      <td>51694.000000</td>\n",
       "      <td>51849.000000</td>\n",
       "      <td>51231.000000</td>\n",
       "      <td>29425.000000</td>\n",
       "      <td>27103.000000</td>\n",
       "      <td>48407.000000</td>\n",
       "      <td>50954.000000</td>\n",
       "      <td>50549.000000</td>\n",
       "      <td>46912.000000</td>\n",
       "      <td>31848.000000</td>\n",
       "      <td>50915.000000</td>\n",
       "    </tr>\n",
       "    <tr>\n",
       "      <th>mean</th>\n",
       "      <td>12.549174</td>\n",
       "      <td>22.512698</td>\n",
       "      <td>3.639494</td>\n",
       "      <td>5.177570</td>\n",
       "      <td>6.530580</td>\n",
       "      <td>42.003016</td>\n",
       "      <td>19.092299</td>\n",
       "      <td>57.432214</td>\n",
       "      <td>1014.273338</td>\n",
       "      <td>5.175647</td>\n",
       "      <td>20.845623</td>\n",
       "    </tr>\n",
       "    <tr>\n",
       "      <th>std</th>\n",
       "      <td>6.376746</td>\n",
       "      <td>7.113064</td>\n",
       "      <td>11.009628</td>\n",
       "      <td>4.017662</td>\n",
       "      <td>3.946561</td>\n",
       "      <td>14.627024</td>\n",
       "      <td>9.157505</td>\n",
       "      <td>21.833045</td>\n",
       "      <td>7.278733</td>\n",
       "      <td>2.632166</td>\n",
       "      <td>6.938471</td>\n",
       "    </tr>\n",
       "    <tr>\n",
       "      <th>min</th>\n",
       "      <td>-8.000000</td>\n",
       "      <td>-4.100000</td>\n",
       "      <td>0.000000</td>\n",
       "      <td>0.000000</td>\n",
       "      <td>0.000000</td>\n",
       "      <td>7.000000</td>\n",
       "      <td>0.000000</td>\n",
       "      <td>1.000000</td>\n",
       "      <td>977.100000</td>\n",
       "      <td>0.000000</td>\n",
       "      <td>-4.400000</td>\n",
       "    </tr>\n",
       "    <tr>\n",
       "      <th>25%</th>\n",
       "      <td>7.900000</td>\n",
       "      <td>17.200000</td>\n",
       "      <td>0.000000</td>\n",
       "      <td>2.400000</td>\n",
       "      <td>3.200000</td>\n",
       "      <td>31.000000</td>\n",
       "      <td>13.000000</td>\n",
       "      <td>42.000000</td>\n",
       "      <td>1009.300000</td>\n",
       "      <td>3.000000</td>\n",
       "      <td>15.700000</td>\n",
       "    </tr>\n",
       "    <tr>\n",
       "      <th>50%</th>\n",
       "      <td>12.300000</td>\n",
       "      <td>21.800000</td>\n",
       "      <td>0.000000</td>\n",
       "      <td>4.400000</td>\n",
       "      <td>6.900000</td>\n",
       "      <td>39.000000</td>\n",
       "      <td>19.000000</td>\n",
       "      <td>58.000000</td>\n",
       "      <td>1014.200000</td>\n",
       "      <td>6.000000</td>\n",
       "      <td>20.200000</td>\n",
       "    </tr>\n",
       "    <tr>\n",
       "      <th>75%</th>\n",
       "      <td>17.200000</td>\n",
       "      <td>27.500000</td>\n",
       "      <td>2.200000</td>\n",
       "      <td>7.000000</td>\n",
       "      <td>9.900000</td>\n",
       "      <td>50.000000</td>\n",
       "      <td>24.000000</td>\n",
       "      <td>73.000000</td>\n",
       "      <td>1019.200000</td>\n",
       "      <td>7.000000</td>\n",
       "      <td>25.600000</td>\n",
       "    </tr>\n",
       "    <tr>\n",
       "      <th>max</th>\n",
       "      <td>31.400000</td>\n",
       "      <td>47.000000</td>\n",
       "      <td>371.000000</td>\n",
       "      <td>77.300000</td>\n",
       "      <td>14.500000</td>\n",
       "      <td>135.000000</td>\n",
       "      <td>83.000000</td>\n",
       "      <td>100.000000</td>\n",
       "      <td>1037.800000</td>\n",
       "      <td>8.000000</td>\n",
       "      <td>46.100000</td>\n",
       "    </tr>\n",
       "  </tbody>\n",
       "</table>\n",
       "</div>"
      ],
      "text/plain": [
       "            MinTemp       MaxTemp      Rainfall   Evaporation      Sunshine  \\\n",
       "count  51694.000000  51849.000000  51231.000000  29425.000000  27103.000000   \n",
       "mean      12.549174     22.512698      3.639494      5.177570      6.530580   \n",
       "std        6.376746      7.113064     11.009628      4.017662      3.946561   \n",
       "min       -8.000000     -4.100000      0.000000      0.000000      0.000000   \n",
       "25%        7.900000     17.200000      0.000000      2.400000      3.200000   \n",
       "50%       12.300000     21.800000      0.000000      4.400000      6.900000   \n",
       "75%       17.200000     27.500000      2.200000      7.000000      9.900000   \n",
       "max       31.400000     47.000000    371.000000     77.300000     14.500000   \n",
       "\n",
       "       WindGustSpeed     WindSpeed      Humidity      Pressure         Cloud  \\\n",
       "count   48407.000000  50954.000000  50549.000000  46912.000000  31848.000000   \n",
       "mean       42.003016     19.092299     57.432214   1014.273338      5.175647   \n",
       "std        14.627024      9.157505     21.833045      7.278733      2.632166   \n",
       "min         7.000000      0.000000      1.000000    977.100000      0.000000   \n",
       "25%        31.000000     13.000000     42.000000   1009.300000      3.000000   \n",
       "50%        39.000000     19.000000     58.000000   1014.200000      6.000000   \n",
       "75%        50.000000     24.000000     73.000000   1019.200000      7.000000   \n",
       "max       135.000000     83.000000    100.000000   1037.800000      8.000000   \n",
       "\n",
       "               Temp  \n",
       "count  50915.000000  \n",
       "mean      20.845623  \n",
       "std        6.938471  \n",
       "min       -4.400000  \n",
       "25%       15.700000  \n",
       "50%       20.200000  \n",
       "75%       25.600000  \n",
       "max       46.100000  "
      ]
     },
     "execution_count": 6,
     "metadata": {},
     "output_type": "execute_result"
    }
   ],
   "source": [
    "#check basic data information\n",
    "w.describe()"
   ]
  },
  {
   "cell_type": "markdown",
   "metadata": {},
   "source": [
    "#### 2. Std is low for Evaporation, Sunshine and Cloud, so I use their mean for the null."
   ]
  },
  {
   "cell_type": "code",
   "execution_count": 7,
   "metadata": {},
   "outputs": [],
   "source": [
    "\n",
    "w['Evaporation'].fillna(value=w['Evaporation'].mean(), inplace=True)\n",
    "w['Sunshine'].fillna(value=w['Sunshine'].mean(), inplace=True)\n",
    "w['Cloud'].fillna(value=w['Cloud'].mean(), inplace=True)\n"
   ]
  },
  {
   "cell_type": "markdown",
   "metadata": {},
   "source": [
    " #### 3. drop other missing null"
   ]
  },
  {
   "cell_type": "code",
   "execution_count": 8,
   "metadata": {},
   "outputs": [],
   "source": [
    "w.dropna(how='any',inplace=True)"
   ]
  },
  {
   "cell_type": "markdown",
   "metadata": {},
   "source": [
    "#### 4. check duplicate"
   ]
  },
  {
   "cell_type": "code",
   "execution_count": 9,
   "metadata": {},
   "outputs": [
    {
     "name": "stdout",
     "output_type": "stream",
     "text": [
      "There are 0 duplicated records.\n"
     ]
    }
   ],
   "source": [
    "print(f\"There are {w.duplicated().sum()} duplicated records.\")"
   ]
  },
  {
   "cell_type": "markdown",
   "metadata": {},
   "source": [
    "#### 5. Replace \"yes\" to \"1\", and \"no\" to\"0\"."
   ]
  },
  {
   "cell_type": "code",
   "execution_count": 10,
   "metadata": {},
   "outputs": [],
   "source": [
    "#change yes to 1, no to 0\n",
    "w2=w.applymap(lambda x: 1 if x == 'Yes' else x)\n",
    "w2=w2.applymap(lambda x: 0 if x == 'No' else x)"
   ]
  },
  {
   "cell_type": "markdown",
   "metadata": {},
   "source": [
    "### Do same steps for the testing data"
   ]
  },
  {
   "cell_type": "code",
   "execution_count": 11,
   "metadata": {},
   "outputs": [
    {
     "name": "stdout",
     "output_type": "stream",
     "text": [
      "There are 0 duplicated records.\n"
     ]
    }
   ],
   "source": [
    "t= pd.read_csv('Weather_Forecast_Testing.csv')\n",
    "from scipy.stats.mstats import winsorize\n",
    "Col_t=['MinTemp','MaxTemp','Rainfall','Evaporation','Sunshine','WindGustSpeed','Humidity','Pressure','Cloud','Temp']\n",
    "for i in Col_w:\n",
    "    np.min(winsorize(w[i], limits=[0.1, 0.1]))\n",
    "for i in Col_w:\n",
    "    np.max(winsorize(w[i], limits=[0.1, 0.1]))\n",
    "\n",
    "# replace null with mean\n",
    "t['Evaporation'].fillna(value=t['Evaporation'].mean(), inplace=True)\n",
    "t['Sunshine'].fillna(value=t['Sunshine'].mean(), inplace=True)\n",
    "t['Cloud'].fillna(value=t['Cloud'].mean(), inplace=True)\n",
    "\n",
    "# drop null\n",
    "t.dropna(how='any',inplace=True)\n",
    "\n",
    "#check duplicate\n",
    "print(f\"There are {t.duplicated().sum()} duplicated records.\")\n",
    "\n",
    "#change yes to 1, no to 0\n",
    "t2=t.applymap(lambda x: 1 if x == 'Yes' else x)\n",
    "t2=t2.applymap(lambda x: 0 if x == 'No' else x)\n"
   ]
  },
  {
   "cell_type": "markdown",
   "metadata": {},
   "source": [
    " # Exploratory Data Analysis (EDA)\n"
   ]
  },
  {
   "cell_type": "code",
   "execution_count": 12,
   "metadata": {},
   "outputs": [],
   "source": [
    "#relationship analysis"
   ]
  },
  {
   "cell_type": "code",
   "execution_count": 13,
   "metadata": {},
   "outputs": [
    {
     "data": {
      "text/plain": [
       "<matplotlib.axes._subplots.AxesSubplot at 0x1264bc310>"
      ]
     },
     "execution_count": 13,
     "metadata": {},
     "output_type": "execute_result"
    },
    {
     "data": {
      "image/png": "[encoded data removed]",
      "text/plain": [
       "<Figure size 432x288 with 1 Axes>"
      ]
     },
     "metadata": {
      "needs_background": "light"
     },
     "output_type": "display_data"
    }
   ],
   "source": [
    "#Rainfall today means there are great chance tomorrow will get rain\n",
    "c=w.sample(frac=0.005) #sample 40\n",
    "sns.scatterplot(x=\"RainTomorrow\", y='Rainfall', data=c)"
   ]
  },
  {
   "cell_type": "code",
   "execution_count": 14,
   "metadata": {},
   "outputs": [
    {
     "data": {
      "text/plain": [
       "<matplotlib.axes._subplots.AxesSubplot at 0x124ff9880>"
      ]
     },
     "execution_count": 14,
     "metadata": {},
     "output_type": "execute_result"
    },
    {
     "data": {
      "image/png": "[encoded data removed]",
      "text/plain": [
       "<Figure size 432x288 with 1 Axes>"
      ]
     },
     "metadata": {
      "needs_background": "light"
     },
     "output_type": "display_data"
    }
   ],
   "source": [
    "# WindSpeed has not much influence\n",
    "d=w.sample(frac=0.005) #sample 40\n",
    "sns.scatterplot(x=\"RainTomorrow\", y='WindSpeed', data=d)"
   ]
  },
  {
   "cell_type": "code",
   "execution_count": 15,
   "metadata": {},
   "outputs": [
    {
     "data": {
      "text/plain": [
       "<matplotlib.axes._subplots.AxesSubplot at 0x12601e820>"
      ]
     },
     "execution_count": 15,
     "metadata": {},
     "output_type": "execute_result"
    },
    {
     "data": {
      "image/png": "[encoded data removed]",
      "text/plain": [
       "<Figure size 432x288 with 1 Axes>"
      ]
     },
     "metadata": {
      "needs_background": "light"
     },
     "output_type": "display_data"
    }
   ],
   "source": [
    "# Humidity will have influence \n",
    "d=w.sample(frac=0.005) \n",
    "sns.scatterplot(x=\"RainTomorrow\", y='Humidity', data=d)"
   ]
  },
  {
   "cell_type": "code",
   "execution_count": 16,
   "metadata": {},
   "outputs": [
    {
     "data": {
      "text/plain": [
       "<matplotlib.axes._subplots.AxesSubplot at 0x124fdb100>"
      ]
     },
     "execution_count": 16,
     "metadata": {},
     "output_type": "execute_result"
    },
    {
     "data": {
      "image/png": "[encoded data removed]",
      "text/plain": [
       "<Figure size 432x288 with 1 Axes>"
      ]
     },
     "metadata": {
      "needs_background": "light"
     },
     "output_type": "display_data"
    }
   ],
   "source": [
    "# Pressure not much \n",
    "d=w.sample(frac=0.005) \n",
    "sns.scatterplot(x=\"RainTomorrow\", y='Pressure', data=d)"
   ]
  },
  {
   "cell_type": "code",
   "execution_count": 17,
   "metadata": {},
   "outputs": [
    {
     "data": {
      "text/plain": [
       "<matplotlib.axes._subplots.AxesSubplot at 0x126d93580>"
      ]
     },
     "execution_count": 17,
     "metadata": {},
     "output_type": "execute_result"
    },
    {
     "data": {
      "image/png": "[encoded data removed]",
      "text/plain": [
       "<Figure size 432x288 with 1 Axes>"
      ]
     },
     "metadata": {
      "needs_background": "light"
     },
     "output_type": "display_data"
    }
   ],
   "source": [
    "# Temp yes  \n",
    "d=w.sample(frac=0.005) \n",
    "sns.scatterplot(x=\"RainTomorrow\", y='Temp', data=d)"
   ]
  },
  {
   "cell_type": "code",
   "execution_count": 18,
   "metadata": {},
   "outputs": [
    {
     "data": {
      "text/plain": [
       "<matplotlib.axes._subplots.AxesSubplot at 0x10f717ac0>"
      ]
     },
     "execution_count": 18,
     "metadata": {},
     "output_type": "execute_result"
    },
    {
     "data": {
      "image/png": "[encoded data removed]",
      "text/plain": [
       "<Figure size 432x288 with 1 Axes>"
      ]
     },
     "metadata": {
      "needs_background": "light"
     },
     "output_type": "display_data"
    }
   ],
   "source": [
    "# Sunshine has influence \n",
    "d=w.sample(frac=0.005) \n",
    "sns.scatterplot(x=\"RainTomorrow\", y='Sunshine', data=d)"
   ]
  },
  {
   "cell_type": "code",
   "execution_count": 19,
   "metadata": {},
   "outputs": [
    {
     "data": {
      "text/plain": [
       "<matplotlib.axes._subplots.AxesSubplot at 0x1253274c0>"
      ]
     },
     "execution_count": 19,
     "metadata": {},
     "output_type": "execute_result"
    },
    {
     "data": {
      "image/png": "[encoded data removed]",
      "text/plain": [
       "<Figure size 432x288 with 1 Axes>"
      ]
     },
     "metadata": {
      "needs_background": "light"
     },
     "output_type": "display_data"
    }
   ],
   "source": [
    "# WindGustSpeed has influence \n",
    "d=w.sample(frac=0.005) \n",
    "sns.scatterplot(x=\"RainTomorrow\", y='WindGustSpeed', data=d)"
   ]
  },
  {
   "cell_type": "code",
   "execution_count": 20,
   "metadata": {},
   "outputs": [
    {
     "data": {
      "text/plain": [
       "<matplotlib.axes._subplots.AxesSubplot at 0x125321a90>"
      ]
     },
     "execution_count": 20,
     "metadata": {},
     "output_type": "execute_result"
    },
    {
     "data": {
      "image/png": "[encoded data removed]",
      "text/plain": [
       "<Figure size 432x288 with 1 Axes>"
      ]
     },
     "metadata": {
      "needs_background": "light"
     },
     "output_type": "display_data"
    }
   ],
   "source": [
    "# Cloud has influence \n",
    "d=w.sample(frac=0.005) \n",
    "sns.scatterplot(x=\"RainTomorrow\", y='Cloud', data=d)"
   ]
  },
  {
   "cell_type": "code",
   "execution_count": 21,
   "metadata": {},
   "outputs": [
    {
     "data": {
      "text/plain": [
       "<matplotlib.axes._subplots.AxesSubplot at 0x126005700>"
      ]
     },
     "execution_count": 21,
     "metadata": {},
     "output_type": "execute_result"
    },
    {
     "data": {
      "image/png": "[encoded data removed]",
      "text/plain": [
       "<Figure size 432x288 with 1 Axes>"
      ]
     },
     "metadata": {
      "needs_background": "light"
     },
     "output_type": "display_data"
    }
   ],
   "source": [
    "# Cloud has very little influence \n",
    "d=w.sample(frac=0.005) \n",
    "sns.scatterplot(x=\"RainTomorrow\", y='WindSpeed', data=d)"
   ]
  },
  {
   "cell_type": "markdown",
   "metadata": {},
   "source": [
    "# SECTION 2"
   ]
  },
  {
   "cell_type": "markdown",
   "metadata": {},
   "source": [
    "## 1. Clustering\n"
   ]
  },
  {
   "cell_type": "code",
   "execution_count": 22,
   "metadata": {},
   "outputs": [],
   "source": [
    "# get sample (5%)\n",
    "training=w2.sample(frac=0.05) "
   ]
  },
  {
   "cell_type": "markdown",
   "metadata": {},
   "source": [
    "#### 1.1    Normalize training data "
   ]
  },
  {
   "cell_type": "code",
   "execution_count": 23,
   "metadata": {},
   "outputs": [
    {
     "data": {
      "text/html": [
       "<div>\n",
       "<style scoped>\n",
       "    .dataframe tbody tr th:only-of-type {\n",
       "        vertical-align: middle;\n",
       "    }\n",
       "\n",
       "    .dataframe tbody tr th {\n",
       "        vertical-align: top;\n",
       "    }\n",
       "\n",
       "    .dataframe thead th {\n",
       "        text-align: right;\n",
       "    }\n",
       "</style>\n",
       "<table border=\"1\" class=\"dataframe\">\n",
       "  <thead>\n",
       "    <tr style=\"text-align: right;\">\n",
       "      <th></th>\n",
       "      <th>Rainfall</th>\n",
       "      <th>Evaporation</th>\n",
       "      <th>Sunshine</th>\n",
       "      <th>WindGustSpeed</th>\n",
       "      <th>WindSpeed</th>\n",
       "      <th>Humidity</th>\n",
       "      <th>Pressure</th>\n",
       "      <th>Temp</th>\n",
       "      <th>RainToday</th>\n",
       "      <th>RainTomorrow</th>\n",
       "    </tr>\n",
       "  </thead>\n",
       "  <tbody>\n",
       "    <tr>\n",
       "      <th>20556</th>\n",
       "      <td>0.000000</td>\n",
       "      <td>0.087164</td>\n",
       "      <td>0.476685</td>\n",
       "      <td>0.099099</td>\n",
       "      <td>0.211538</td>\n",
       "      <td>0.427083</td>\n",
       "      <td>0.687375</td>\n",
       "      <td>0.303448</td>\n",
       "      <td>0.0</td>\n",
       "      <td>0.0</td>\n",
       "    </tr>\n",
       "    <tr>\n",
       "      <th>13631</th>\n",
       "      <td>0.010490</td>\n",
       "      <td>0.077441</td>\n",
       "      <td>0.476685</td>\n",
       "      <td>0.171171</td>\n",
       "      <td>0.211538</td>\n",
       "      <td>0.916667</td>\n",
       "      <td>0.507014</td>\n",
       "      <td>0.172414</td>\n",
       "      <td>1.0</td>\n",
       "      <td>1.0</td>\n",
       "    </tr>\n",
       "    <tr>\n",
       "      <th>33867</th>\n",
       "      <td>0.001748</td>\n",
       "      <td>0.087164</td>\n",
       "      <td>0.476685</td>\n",
       "      <td>0.198198</td>\n",
       "      <td>0.211538</td>\n",
       "      <td>0.333333</td>\n",
       "      <td>0.599198</td>\n",
       "      <td>0.450575</td>\n",
       "      <td>0.0</td>\n",
       "      <td>0.0</td>\n",
       "    </tr>\n",
       "    <tr>\n",
       "      <th>17825</th>\n",
       "      <td>0.000000</td>\n",
       "      <td>0.087164</td>\n",
       "      <td>0.476685</td>\n",
       "      <td>0.270270</td>\n",
       "      <td>0.461538</td>\n",
       "      <td>0.406250</td>\n",
       "      <td>0.627255</td>\n",
       "      <td>0.526437</td>\n",
       "      <td>0.0</td>\n",
       "      <td>0.0</td>\n",
       "    </tr>\n",
       "    <tr>\n",
       "      <th>24211</th>\n",
       "      <td>0.000000</td>\n",
       "      <td>0.026936</td>\n",
       "      <td>0.175182</td>\n",
       "      <td>0.099099</td>\n",
       "      <td>0.211538</td>\n",
       "      <td>0.656250</td>\n",
       "      <td>0.741483</td>\n",
       "      <td>0.305747</td>\n",
       "      <td>0.0</td>\n",
       "      <td>0.0</td>\n",
       "    </tr>\n",
       "    <tr>\n",
       "      <th>...</th>\n",
       "      <td>...</td>\n",
       "      <td>...</td>\n",
       "      <td>...</td>\n",
       "      <td>...</td>\n",
       "      <td>...</td>\n",
       "      <td>...</td>\n",
       "      <td>...</td>\n",
       "      <td>...</td>\n",
       "      <td>...</td>\n",
       "      <td>...</td>\n",
       "    </tr>\n",
       "    <tr>\n",
       "      <th>34278</th>\n",
       "      <td>0.000000</td>\n",
       "      <td>0.282828</td>\n",
       "      <td>0.883212</td>\n",
       "      <td>0.306306</td>\n",
       "      <td>0.346154</td>\n",
       "      <td>0.052083</td>\n",
       "      <td>0.376754</td>\n",
       "      <td>0.806897</td>\n",
       "      <td>0.0</td>\n",
       "      <td>0.0</td>\n",
       "    </tr>\n",
       "    <tr>\n",
       "      <th>10805</th>\n",
       "      <td>0.038462</td>\n",
       "      <td>0.006734</td>\n",
       "      <td>0.642336</td>\n",
       "      <td>0.090090</td>\n",
       "      <td>0.134615</td>\n",
       "      <td>0.500000</td>\n",
       "      <td>0.741483</td>\n",
       "      <td>0.372414</td>\n",
       "      <td>1.0</td>\n",
       "      <td>0.0</td>\n",
       "    </tr>\n",
       "    <tr>\n",
       "      <th>878</th>\n",
       "      <td>0.000000</td>\n",
       "      <td>0.087164</td>\n",
       "      <td>0.476685</td>\n",
       "      <td>0.387387</td>\n",
       "      <td>0.673077</td>\n",
       "      <td>0.281250</td>\n",
       "      <td>0.627255</td>\n",
       "      <td>0.708046</td>\n",
       "      <td>0.0</td>\n",
       "      <td>0.0</td>\n",
       "    </tr>\n",
       "    <tr>\n",
       "      <th>40547</th>\n",
       "      <td>0.166084</td>\n",
       "      <td>0.087164</td>\n",
       "      <td>0.598540</td>\n",
       "      <td>0.468468</td>\n",
       "      <td>0.673077</td>\n",
       "      <td>0.479167</td>\n",
       "      <td>0.458918</td>\n",
       "      <td>0.434483</td>\n",
       "      <td>1.0</td>\n",
       "      <td>1.0</td>\n",
       "    </tr>\n",
       "    <tr>\n",
       "      <th>39973</th>\n",
       "      <td>0.000000</td>\n",
       "      <td>0.228956</td>\n",
       "      <td>0.912409</td>\n",
       "      <td>0.387387</td>\n",
       "      <td>0.596154</td>\n",
       "      <td>0.062500</td>\n",
       "      <td>0.480962</td>\n",
       "      <td>0.806897</td>\n",
       "      <td>0.0</td>\n",
       "      <td>0.0</td>\n",
       "    </tr>\n",
       "  </tbody>\n",
       "</table>\n",
       "<p>2164 rows × 10 columns</p>\n",
       "</div>"
      ],
      "text/plain": [
       "       Rainfall  Evaporation  Sunshine  WindGustSpeed  WindSpeed  Humidity  \\\n",
       "20556  0.000000     0.087164  0.476685       0.099099   0.211538  0.427083   \n",
       "13631  0.010490     0.077441  0.476685       0.171171   0.211538  0.916667   \n",
       "33867  0.001748     0.087164  0.476685       0.198198   0.211538  0.333333   \n",
       "17825  0.000000     0.087164  0.476685       0.270270   0.461538  0.406250   \n",
       "24211  0.000000     0.026936  0.175182       0.099099   0.211538  0.656250   \n",
       "...         ...          ...       ...            ...        ...       ...   \n",
       "34278  0.000000     0.282828  0.883212       0.306306   0.346154  0.052083   \n",
       "10805  0.038462     0.006734  0.642336       0.090090   0.134615  0.500000   \n",
       "878    0.000000     0.087164  0.476685       0.387387   0.673077  0.281250   \n",
       "40547  0.166084     0.087164  0.598540       0.468468   0.673077  0.479167   \n",
       "39973  0.000000     0.228956  0.912409       0.387387   0.596154  0.062500   \n",
       "\n",
       "       Pressure      Temp  RainToday  RainTomorrow  \n",
       "20556  0.687375  0.303448        0.0           0.0  \n",
       "13631  0.507014  0.172414        1.0           1.0  \n",
       "33867  0.599198  0.450575        0.0           0.0  \n",
       "17825  0.627255  0.526437        0.0           0.0  \n",
       "24211  0.741483  0.305747        0.0           0.0  \n",
       "...         ...       ...        ...           ...  \n",
       "34278  0.376754  0.806897        0.0           0.0  \n",
       "10805  0.741483  0.372414        1.0           0.0  \n",
       "878    0.627255  0.708046        0.0           0.0  \n",
       "40547  0.458918  0.434483        1.0           1.0  \n",
       "39973  0.480962  0.806897        0.0           0.0  \n",
       "\n",
       "[2164 rows x 10 columns]"
      ]
     },
     "execution_count": 23,
     "metadata": {},
     "output_type": "execute_result"
    }
   ],
   "source": [
    "# Get ride of WindGustDir and WindDir,which have little relation to raintomorrow.\n",
    "training=pd.DataFrame(training, columns=['Rainfall','Evaporation','Sunshine','WindGustSpeed','WindSpeed','Humidity','Pressure','Temp','RainToday','RainTomorrow'])\n",
    "min_max_scaler = preprocessing.MinMaxScaler()\n",
    "np_scaled = min_max_scaler.fit_transform(training)\n",
    "df_normalized = pd.DataFrame(np_scaled, columns=training.columns, index=training.index)\n",
    "df_normalized\n",
    "\n"
   ]
  },
  {
   "cell_type": "markdown",
   "metadata": {},
   "source": [
    "#### Normalize testing data \n"
   ]
  },
  {
   "cell_type": "code",
   "execution_count": 24,
   "metadata": {},
   "outputs": [
    {
     "data": {
      "text/html": [
       "<div>\n",
       "<style scoped>\n",
       "    .dataframe tbody tr th:only-of-type {\n",
       "        vertical-align: middle;\n",
       "    }\n",
       "\n",
       "    .dataframe tbody tr th {\n",
       "        vertical-align: top;\n",
       "    }\n",
       "\n",
       "    .dataframe thead th {\n",
       "        text-align: right;\n",
       "    }\n",
       "</style>\n",
       "<table border=\"1\" class=\"dataframe\">\n",
       "  <thead>\n",
       "    <tr style=\"text-align: right;\">\n",
       "      <th></th>\n",
       "      <th>Rainfall</th>\n",
       "      <th>Evaporation</th>\n",
       "      <th>Sunshine</th>\n",
       "      <th>WindGustSpeed</th>\n",
       "      <th>WindSpeed</th>\n",
       "      <th>Humidity</th>\n",
       "      <th>Pressure</th>\n",
       "      <th>Temp</th>\n",
       "      <th>RainToday</th>\n",
       "    </tr>\n",
       "  </thead>\n",
       "  <tbody>\n",
       "    <tr>\n",
       "      <th>0</th>\n",
       "      <td>0.011970</td>\n",
       "      <td>0.034884</td>\n",
       "      <td>0.100000</td>\n",
       "      <td>0.572727</td>\n",
       "      <td>0.235294</td>\n",
       "      <td>0.686869</td>\n",
       "      <td>0.305263</td>\n",
       "      <td>0.386792</td>\n",
       "      <td>1.0</td>\n",
       "    </tr>\n",
       "    <tr>\n",
       "      <th>1</th>\n",
       "      <td>0.105550</td>\n",
       "      <td>0.017442</td>\n",
       "      <td>0.414286</td>\n",
       "      <td>0.372727</td>\n",
       "      <td>0.200000</td>\n",
       "      <td>0.454545</td>\n",
       "      <td>0.592982</td>\n",
       "      <td>0.172170</td>\n",
       "      <td>1.0</td>\n",
       "    </tr>\n",
       "    <tr>\n",
       "      <th>2</th>\n",
       "      <td>0.000544</td>\n",
       "      <td>0.040698</td>\n",
       "      <td>0.664286</td>\n",
       "      <td>0.272727</td>\n",
       "      <td>0.152941</td>\n",
       "      <td>0.474747</td>\n",
       "      <td>0.638596</td>\n",
       "      <td>0.283019</td>\n",
       "      <td>0.0</td>\n",
       "    </tr>\n",
       "    <tr>\n",
       "      <th>3</th>\n",
       "      <td>0.000000</td>\n",
       "      <td>0.494186</td>\n",
       "      <td>0.469852</td>\n",
       "      <td>0.272727</td>\n",
       "      <td>0.200000</td>\n",
       "      <td>0.101010</td>\n",
       "      <td>0.529825</td>\n",
       "      <td>0.735849</td>\n",
       "      <td>0.0</td>\n",
       "    </tr>\n",
       "    <tr>\n",
       "      <th>4</th>\n",
       "      <td>0.000000</td>\n",
       "      <td>0.087209</td>\n",
       "      <td>0.200000</td>\n",
       "      <td>0.218182</td>\n",
       "      <td>0.129412</td>\n",
       "      <td>0.515152</td>\n",
       "      <td>0.635088</td>\n",
       "      <td>0.492925</td>\n",
       "      <td>0.0</td>\n",
       "    </tr>\n",
       "    <tr>\n",
       "      <th>...</th>\n",
       "      <td>...</td>\n",
       "      <td>...</td>\n",
       "      <td>...</td>\n",
       "      <td>...</td>\n",
       "      <td>...</td>\n",
       "      <td>...</td>\n",
       "      <td>...</td>\n",
       "      <td>...</td>\n",
       "      <td>...</td>\n",
       "    </tr>\n",
       "    <tr>\n",
       "      <th>12988</th>\n",
       "      <td>0.000000</td>\n",
       "      <td>0.074839</td>\n",
       "      <td>0.469852</td>\n",
       "      <td>0.309091</td>\n",
       "      <td>0.211765</td>\n",
       "      <td>0.616162</td>\n",
       "      <td>0.661404</td>\n",
       "      <td>0.386792</td>\n",
       "      <td>0.0</td>\n",
       "    </tr>\n",
       "    <tr>\n",
       "      <th>12990</th>\n",
       "      <td>0.000000</td>\n",
       "      <td>0.069767</td>\n",
       "      <td>0.828571</td>\n",
       "      <td>0.309091</td>\n",
       "      <td>0.282353</td>\n",
       "      <td>0.222222</td>\n",
       "      <td>0.661404</td>\n",
       "      <td>0.573113</td>\n",
       "      <td>0.0</td>\n",
       "    </tr>\n",
       "    <tr>\n",
       "      <th>12991</th>\n",
       "      <td>0.000000</td>\n",
       "      <td>0.037791</td>\n",
       "      <td>0.214286</td>\n",
       "      <td>0.409091</td>\n",
       "      <td>0.282353</td>\n",
       "      <td>0.444444</td>\n",
       "      <td>0.580702</td>\n",
       "      <td>0.358491</td>\n",
       "      <td>0.0</td>\n",
       "    </tr>\n",
       "    <tr>\n",
       "      <th>12992</th>\n",
       "      <td>0.002720</td>\n",
       "      <td>0.074839</td>\n",
       "      <td>0.728571</td>\n",
       "      <td>0.272727</td>\n",
       "      <td>0.211765</td>\n",
       "      <td>0.464646</td>\n",
       "      <td>0.703509</td>\n",
       "      <td>0.391509</td>\n",
       "      <td>0.0</td>\n",
       "    </tr>\n",
       "    <tr>\n",
       "      <th>12993</th>\n",
       "      <td>0.194777</td>\n",
       "      <td>0.074839</td>\n",
       "      <td>0.564286</td>\n",
       "      <td>0.545455</td>\n",
       "      <td>0.176471</td>\n",
       "      <td>0.636364</td>\n",
       "      <td>0.526316</td>\n",
       "      <td>0.389151</td>\n",
       "      <td>1.0</td>\n",
       "    </tr>\n",
       "  </tbody>\n",
       "</table>\n",
       "<p>10797 rows × 9 columns</p>\n",
       "</div>"
      ],
      "text/plain": [
       "       Rainfall  Evaporation  Sunshine  WindGustSpeed  WindSpeed  Humidity  \\\n",
       "0      0.011970     0.034884  0.100000       0.572727   0.235294  0.686869   \n",
       "1      0.105550     0.017442  0.414286       0.372727   0.200000  0.454545   \n",
       "2      0.000544     0.040698  0.664286       0.272727   0.152941  0.474747   \n",
       "3      0.000000     0.494186  0.469852       0.272727   0.200000  0.101010   \n",
       "4      0.000000     0.087209  0.200000       0.218182   0.129412  0.515152   \n",
       "...         ...          ...       ...            ...        ...       ...   \n",
       "12988  0.000000     0.074839  0.469852       0.309091   0.211765  0.616162   \n",
       "12990  0.000000     0.069767  0.828571       0.309091   0.282353  0.222222   \n",
       "12991  0.000000     0.037791  0.214286       0.409091   0.282353  0.444444   \n",
       "12992  0.002720     0.074839  0.728571       0.272727   0.211765  0.464646   \n",
       "12993  0.194777     0.074839  0.564286       0.545455   0.176471  0.636364   \n",
       "\n",
       "       Pressure      Temp  RainToday  \n",
       "0      0.305263  0.386792        1.0  \n",
       "1      0.592982  0.172170        1.0  \n",
       "2      0.638596  0.283019        0.0  \n",
       "3      0.529825  0.735849        0.0  \n",
       "4      0.635088  0.492925        0.0  \n",
       "...         ...       ...        ...  \n",
       "12988  0.661404  0.386792        0.0  \n",
       "12990  0.661404  0.573113        0.0  \n",
       "12991  0.580702  0.358491        0.0  \n",
       "12992  0.703509  0.391509        0.0  \n",
       "12993  0.526316  0.389151        1.0  \n",
       "\n",
       "[10797 rows x 9 columns]"
      ]
     },
     "execution_count": 24,
     "metadata": {},
     "output_type": "execute_result"
    }
   ],
   "source": [
    "# Get ride of WindGustDir and WindDir,which have little relation to raintomorrow.\n",
    "\n",
    "\n",
    "\n",
    "testing=pd.DataFrame(t2, columns=['Rainfall','Evaporation','Sunshine','WindGustSpeed','WindSpeed','Humidity','Pressure','Temp','RainToday'])\n",
    "min_max_scaler_t = preprocessing.MinMaxScaler()\n",
    "np_scaled_t = min_max_scaler_t.fit_transform(testing)\n",
    "df_normalized_t = pd.DataFrame(np_scaled_t, columns=testing.columns, index=testing.index)\n",
    "df_normalized_t"
   ]
  },
  {
   "cell_type": "markdown",
   "metadata": {},
   "source": [
    "### split training in 75%-25% to test the model"
   ]
  },
  {
   "cell_type": "code",
   "execution_count": 25,
   "metadata": {},
   "outputs": [
    {
     "name": "stdout",
     "output_type": "stream",
     "text": [
      "train data size is (1623, 9)\n"
     ]
    }
   ],
   "source": [
    "X = df_normalized.drop(labels=['RainTomorrow'], axis=1)\n",
    "y = df_normalized['RainTomorrow']\n",
    "X_train, X_test, y_train, y_test = train_test_split(X, y,test_size=0.25)\n",
    "print(f\"train data size is {X_train.shape}\")"
   ]
  },
  {
   "cell_type": "markdown",
   "metadata": {},
   "source": [
    "#### 1. Kmean method ( find the best K)"
   ]
  },
  {
   "cell_type": "code",
   "execution_count": 26,
   "metadata": {},
   "outputs": [
    {
     "data": {
      "image/png": "[encoded data removed]",
      "text/plain": [
       "<Figure size 432x288 with 1 Axes>"
      ]
     },
     "metadata": {
      "needs_background": "light"
     },
     "output_type": "display_data"
    }
   ],
   "source": [
    "dist_matrix = pd.DataFrame(distance_matrix(X.values,\n",
    "                           X.values, p=2),\n",
    "                           index=X.index,\n",
    "                           columns=X.index)\n",
    "\n",
    "## Elbow Method (Codes)\n",
    "\n",
    "from scipy.spatial.distance import cdist\n",
    "distortions = []\n",
    "K = range(1, 10)\n",
    "for k in K:\n",
    "    kmeanModel = KMeans(n_clusters=k).fit(dist_matrix)\n",
    "    kmeanModel.fit(dist_matrix)\n",
    "    distortions.append(sum(np.min(cdist(dist_matrix, kmeanModel.cluster_centers_, 'euclidean'), axis=1)) / dist_matrix.shape[0])\n",
    "    \n",
    "plt.plot(K, distortions, 'bx-')\n",
    "plt.xlabel('k')\n",
    "plt.ylabel('Distortion')\n",
    "plt.title('The Elbow Method to Identify Optimal k')\n",
    "plt.show()\n"
   ]
  },
  {
   "cell_type": "markdown",
   "metadata": {},
   "source": [
    "### set up two functions for later use"
   ]
  },
  {
   "cell_type": "code",
   "execution_count": 27,
   "metadata": {},
   "outputs": [],
   "source": [
    "## I will choose 2 as k according to previos best k mean \n",
    "def majority_labels(km_labels, y_true):\n",
    "    cluster_0_yes=0\n",
    "    cluster_0_no =0\n",
    "    cluster_1_yes=0\n",
    "    cluster_1_no =0\n",
    "\n",
    "    for i in range(len(km_labels)):\n",
    "        if y_true.iloc[i] == 1:\n",
    "            if km_labels[i] == 0:\n",
    "                cluster_0_yes += 1\n",
    "            else:\n",
    "                cluster_1_yes += 1\n",
    "        else:\n",
    "            if km_labels[i] == 0:\n",
    "                cluster_0_no += 1\n",
    "            else:\n",
    "                cluster_1_no += 1\n",
    "    cluster_0 = 1 if cluster_0_yes > cluster_0_no else 0\n",
    "    cluster_1 = 1 if cluster_1_yes > cluster_1_no else 0\n",
    "    return cluster_0, cluster_1\n",
    "\n",
    "\n",
    "def classify_by_cluster(label0, label1, test_labels):\n",
    "    class_out = []\n",
    "    for label in test_labels:\n",
    "        if label == 0:\n",
    "            class_out.append(label0)\n",
    "        else:\n",
    "            class_out.append(label1)\n",
    "    return class_out"
   ]
  },
  {
   "cell_type": "markdown",
   "metadata": {},
   "source": [
    "### Accuracy "
   ]
  },
  {
   "cell_type": "code",
   "execution_count": 28,
   "metadata": {},
   "outputs": [
    {
     "name": "stdout",
     "output_type": "stream",
     "text": [
      "0.6284658040665434\n"
     ]
    }
   ],
   "source": [
    "kmeans = KMeans(n_clusters=2, random_state=47).fit(X_train)\n",
    "kmeans_label0, kmeans_label1 = majority_labels(kmeans.labels_, y_train)\n",
    "\n",
    "val_pred_kmeans = classify_by_cluster(kmeans_label0, kmeans_label1, kmeans.predict(X_test))\n",
    "print(metrics.accuracy_score(y_test, val_pred_kmeans))\n"
   ]
  },
  {
   "cell_type": "markdown",
   "metadata": {},
   "source": [
    "### Predict Weather for the testing set "
   ]
  },
  {
   "cell_type": "code",
   "execution_count": 29,
   "metadata": {},
   "outputs": [],
   "source": [
    "t_IDs = t2['ID']\n",
    "\n",
    "km_testing = KMeans(n_clusters=2, random_state=47).fit(X)\n",
    "kmt_label0, kmt_label1 = majority_labels(km_testing.labels_, y)\n",
    "\n",
    "Prediction_km = classify_by_cluster(kmt_label0, kmt_label1, km_testing.predict(df_normalized_t))"
   ]
  },
  {
   "cell_type": "markdown",
   "metadata": {},
   "source": [
    "## 2.  HAC "
   ]
  },
  {
   "cell_type": "code",
   "execution_count": 30,
   "metadata": {},
   "outputs": [
    {
     "name": "stdout",
     "output_type": "stream",
     "text": [
      "0.6284658040665434\n"
     ]
    }
   ],
   "source": [
    "from sklearn.cluster import AgglomerativeClustering\n",
    "import numpy as np\n",
    "import matplotlib.pyplot as plt\n",
    "from scipy.cluster.hierarchy import dendrogram\n",
    "import scipy.cluster.hierarchy as sch\n",
    "\n",
    "df_merged = pd.concat([X_train, X_test])\n",
    "\n",
    "hac = AgglomerativeClustering(n_clusters=2).fit(df_merged)\n",
    "hac_labels = hac.labels_\n",
    "hac_labels_train = hac_labels[:len(X_train)]\n",
    "hac_label0, hac_label1 = majority_labels(hac_labels_train, y_train)\n",
    "\n",
    "hac_labels_val = hac_labels[-len(X_test):]\n",
    "val_pred_hac = classify_by_cluster(hac_label0, hac_label1, hac_labels_val)\n",
    "print(metrics.accuracy_score(y_test, val_pred_hac))"
   ]
  },
  {
   "cell_type": "markdown",
   "metadata": {},
   "source": [
    "### Prediction "
   ]
  },
  {
   "cell_type": "code",
   "execution_count": 31,
   "metadata": {},
   "outputs": [
    {
     "name": "stdout",
     "output_type": "stream",
     "text": [
      "2164\n"
     ]
    }
   ],
   "source": [
    "\n",
    "hac_labels_val = hac_labels[-len(df_normalized_t):]\n",
    "Prediction_hac = classify_by_cluster(hac_label0, hac_label1, hac_labels_val)\n",
    "\n",
    "print(len(df_merged))"
   ]
  },
  {
   "cell_type": "markdown",
   "metadata": {},
   "source": [
    "# 3 Decision tree "
   ]
  },
  {
   "cell_type": "markdown",
   "metadata": {},
   "source": [
    "\n",
    "### use DecisionTreeClassifier()\n"
   ]
  },
  {
   "cell_type": "code",
   "execution_count": 32,
   "metadata": {},
   "outputs": [
    {
     "data": {
      "text/plain": [
       "DecisionTreeClassifier(criterion='entropy', max_depth=5, max_leaf_nodes=20,\n",
       "                       min_samples_leaf=5, random_state=47)"
      ]
     },
     "execution_count": 32,
     "metadata": {},
     "output_type": "execute_result"
    }
   ],
   "source": [
    "clf = DecisionTreeClassifier(random_state=47, criterion=\"entropy\", min_samples_split=2, max_depth=5, min_samples_leaf=5, max_leaf_nodes= 20)\n",
    "clf\n"
   ]
  },
  {
   "cell_type": "code",
   "execution_count": 33,
   "metadata": {},
   "outputs": [
    {
     "name": "stdout",
     "output_type": "stream",
     "text": [
      "train data size is (1623, 9)\n"
     ]
    }
   ],
   "source": [
    "#note\n",
    "X = df_normalized.drop(labels=['RainTomorrow'], axis=1)\n",
    "y = df_normalized['RainTomorrow']\n",
    "X_train, X_test, y_train, y_test = train_test_split(X, y,test_size=0.25)\n",
    "print(f\"train data size is {X_train.shape}\")"
   ]
  },
  {
   "cell_type": "markdown",
   "metadata": {},
   "source": [
    "### Accuracy"
   ]
  },
  {
   "cell_type": "code",
   "execution_count": 34,
   "metadata": {},
   "outputs": [
    {
     "name": "stdout",
     "output_type": "stream",
     "text": [
      "Accuracy: 75.6%\n"
     ]
    },
    {
     "data": {
      "text/plain": [
       "5"
      ]
     },
     "execution_count": 34,
     "metadata": {},
     "output_type": "execute_result"
    }
   ],
   "source": [
    "clf.fit(X_train,y_train)\n",
    "y_pred_dct = clf.predict(X_test)\n",
    "print(f\"Accuracy: {round(metrics.accuracy_score(y_test, y_pred_dct)*100, 2)}%\")\n",
    "clf.tree_.max_depth"
   ]
  },
  {
   "cell_type": "markdown",
   "metadata": {},
   "source": [
    "## Hyperparameter Fine Tuning\n",
    "###GridSearchCV()"
   ]
  },
  {
   "cell_type": "code",
   "execution_count": 35,
   "metadata": {},
   "outputs": [
    {
     "data": {
      "text/plain": [
       "GridSearchCV(cv=10,\n",
       "             estimator=DecisionTreeClassifier(criterion='entropy', max_depth=5,\n",
       "                                              max_leaf_nodes=20,\n",
       "                                              min_samples_leaf=5,\n",
       "                                              random_state=47),\n",
       "             param_grid={'criterion': ['gini', 'entropy'],\n",
       "                         'max_depth': [5, 10, 20, 25, 30],\n",
       "                         'max_leaf_nodes': [2, 5, 10, 20],\n",
       "                         'min_samples_leaf': [1, 5, 10],\n",
       "                         'min_samples_split': [2, 10, 20]},\n",
       "             scoring='accuracy')"
      ]
     },
     "execution_count": 35,
     "metadata": {},
     "output_type": "execute_result"
    }
   ],
   "source": [
    "## Model Hyperparameter Fine Tuning\n",
    "\n",
    "param_grid = {'criterion': ['gini', 'entropy'],\n",
    "              'min_samples_split': [2, 10, 20],\n",
    "              'max_depth': [5, 10, 20, 25, 30],\n",
    "              'min_samples_leaf': [1, 5, 10],\n",
    "              'max_leaf_nodes': [2, 5, 10, 20]}\n",
    "grid = GridSearchCV(clf, param_grid, cv=10, scoring='accuracy')\n",
    "grid.fit(X_train, y_train)"
   ]
  },
  {
   "cell_type": "code",
   "execution_count": 36,
   "metadata": {},
   "outputs": [],
   "source": [
    "## Repeated Hold-Out Method\n",
    "import numpy as np\n",
    "from sklearn.model_selection import ShuffleSplit\n",
    "bstrap = ShuffleSplit(n_splits=10, test_size=0.3, random_state=16)"
   ]
  },
  {
   "cell_type": "code",
   "execution_count": 37,
   "metadata": {},
   "outputs": [],
   "source": [
    "grid_bstrap = GridSearchCV(clf, param_grid, cv=bstrap)"
   ]
  },
  {
   "cell_type": "code",
   "execution_count": 38,
   "metadata": {},
   "outputs": [
    {
     "data": {
      "text/plain": [
       "GridSearchCV(cv=ShuffleSplit(n_splits=10, random_state=16, test_size=0.3, train_size=None),\n",
       "             estimator=DecisionTreeClassifier(criterion='entropy', max_depth=5,\n",
       "                                              max_leaf_nodes=20,\n",
       "                                              min_samples_leaf=5,\n",
       "                                              random_state=47),\n",
       "             param_grid={'criterion': ['gini', 'entropy'],\n",
       "                         'max_depth': [5, 10, 20, 25, 30],\n",
       "                         'max_leaf_nodes': [2, 5, 10, 20],\n",
       "                         'min_samples_leaf': [1, 5, 10],\n",
       "                         'min_samples_split': [2, 10, 20]})"
      ]
     },
     "execution_count": 38,
     "metadata": {},
     "output_type": "execute_result"
    }
   ],
   "source": [
    "grid_bstrap.fit(X_train, y_train)"
   ]
  },
  {
   "cell_type": "code",
   "execution_count": 39,
   "metadata": {},
   "outputs": [
    {
     "name": "stdout",
     "output_type": "stream",
     "text": [
      "Accuracy: 74.5%\n",
      "Hyperparameter: criterion; Value: gini\n",
      "Hyperparameter: max_depth; Value: 5\n",
      "Hyperparameter: max_leaf_nodes; Value: 20\n",
      "Hyperparameter: min_samples_leaf; Value: 1\n",
      "Hyperparameter: min_samples_split; Value: 20\n"
     ]
    }
   ],
   "source": [
    "## Hyperparameters for Best Performinig Model\n",
    "\n",
    "print(f\"Accuracy: {round(grid_bstrap.best_score_*100, 2)}%\")\n",
    "for key, value in grid_bstrap.best_params_.items():\n",
    "  print(f\"Hyperparameter: {key}; Value: {value}\")"
   ]
  },
  {
   "cell_type": "markdown",
   "metadata": {},
   "source": [
    "### Prediction "
   ]
  },
  {
   "cell_type": "code",
   "execution_count": 40,
   "metadata": {},
   "outputs": [],
   "source": [
    "clf2 = DecisionTreeClassifier(random_state=47, criterion=\"entropy\", min_samples_split=10, max_depth=5, min_samples_leaf=1, max_leaf_nodes= 20).fit(X,y)\n",
    "predict_clf = clf2.predict(df_normalized_t)"
   ]
  },
  {
   "cell_type": "markdown",
   "metadata": {},
   "source": [
    "# Naive Bayes Classification"
   ]
  },
  {
   "cell_type": "code",
   "execution_count": 41,
   "metadata": {},
   "outputs": [],
   "source": [
    "from sklearn.model_selection import train_test_split, GridSearchCV, cross_val_score, ShuffleSplit\n",
    "from sklearn import metrics\n",
    "from sklearn.naive_bayes import GaussianNB, BernoulliNB, MultinomialNB"
   ]
  },
  {
   "cell_type": "code",
   "execution_count": 42,
   "metadata": {},
   "outputs": [
    {
     "data": {
      "text/html": [
       "<div>\n",
       "<style scoped>\n",
       "    .dataframe tbody tr th:only-of-type {\n",
       "        vertical-align: middle;\n",
       "    }\n",
       "\n",
       "    .dataframe tbody tr th {\n",
       "        vertical-align: top;\n",
       "    }\n",
       "\n",
       "    .dataframe thead th {\n",
       "        text-align: right;\n",
       "    }\n",
       "</style>\n",
       "<table border=\"1\" class=\"dataframe\">\n",
       "  <thead>\n",
       "    <tr style=\"text-align: right;\">\n",
       "      <th></th>\n",
       "      <th>0</th>\n",
       "      <th>1</th>\n",
       "      <th>2</th>\n",
       "      <th>3</th>\n",
       "      <th>4</th>\n",
       "      <th>5</th>\n",
       "      <th>6</th>\n",
       "      <th>7</th>\n",
       "      <th>8</th>\n",
       "    </tr>\n",
       "  </thead>\n",
       "  <tbody>\n",
       "    <tr>\n",
       "      <th>0</th>\n",
       "      <td>0.351633</td>\n",
       "      <td>0.025494</td>\n",
       "      <td>0.035722</td>\n",
       "      <td>1.537135</td>\n",
       "      <td>0.759658</td>\n",
       "      <td>0.541828</td>\n",
       "      <td>0.836670</td>\n",
       "      <td>0.929938</td>\n",
       "      <td>0.674019</td>\n",
       "    </tr>\n",
       "    <tr>\n",
       "      <th>1</th>\n",
       "      <td>0.238559</td>\n",
       "      <td>0.196545</td>\n",
       "      <td>0.035722</td>\n",
       "      <td>0.980096</td>\n",
       "      <td>0.759658</td>\n",
       "      <td>1.635504</td>\n",
       "      <td>0.450179</td>\n",
       "      <td>1.762624</td>\n",
       "      <td>1.483639</td>\n",
       "    </tr>\n",
       "    <tr>\n",
       "      <th>2</th>\n",
       "      <td>0.332788</td>\n",
       "      <td>0.025494</td>\n",
       "      <td>0.035722</td>\n",
       "      <td>0.771206</td>\n",
       "      <td>0.759658</td>\n",
       "      <td>0.958764</td>\n",
       "      <td>0.207544</td>\n",
       "      <td>0.005009</td>\n",
       "      <td>0.674019</td>\n",
       "    </tr>\n",
       "    <tr>\n",
       "      <th>3</th>\n",
       "      <td>0.351633</td>\n",
       "      <td>0.025494</td>\n",
       "      <td>0.035722</td>\n",
       "      <td>0.214167</td>\n",
       "      <td>0.718158</td>\n",
       "      <td>0.634481</td>\n",
       "      <td>0.407720</td>\n",
       "      <td>0.487091</td>\n",
       "      <td>0.674019</td>\n",
       "    </tr>\n",
       "    <tr>\n",
       "      <th>4</th>\n",
       "      <td>0.351633</td>\n",
       "      <td>1.085018</td>\n",
       "      <td>1.429115</td>\n",
       "      <td>1.537135</td>\n",
       "      <td>0.759658</td>\n",
       "      <td>0.477348</td>\n",
       "      <td>1.222725</td>\n",
       "      <td>0.915329</td>\n",
       "      <td>0.674019</td>\n",
       "    </tr>\n",
       "    <tr>\n",
       "      <th>...</th>\n",
       "      <td>...</td>\n",
       "      <td>...</td>\n",
       "      <td>...</td>\n",
       "      <td>...</td>\n",
       "      <td>...</td>\n",
       "      <td>...</td>\n",
       "      <td>...</td>\n",
       "      <td>...</td>\n",
       "      <td>...</td>\n",
       "    </tr>\n",
       "    <tr>\n",
       "      <th>2159</th>\n",
       "      <td>0.351633</td>\n",
       "      <td>3.416577</td>\n",
       "      <td>1.843044</td>\n",
       "      <td>0.064353</td>\n",
       "      <td>0.036089</td>\n",
       "      <td>2.209572</td>\n",
       "      <td>1.379570</td>\n",
       "      <td>2.269333</td>\n",
       "      <td>0.674019</td>\n",
       "    </tr>\n",
       "    <tr>\n",
       "      <th>2160</th>\n",
       "      <td>0.062973</td>\n",
       "      <td>1.440407</td>\n",
       "      <td>0.729836</td>\n",
       "      <td>1.606765</td>\n",
       "      <td>1.214371</td>\n",
       "      <td>0.217545</td>\n",
       "      <td>1.222725</td>\n",
       "      <td>0.491681</td>\n",
       "      <td>1.483639</td>\n",
       "    </tr>\n",
       "    <tr>\n",
       "      <th>2161</th>\n",
       "      <td>0.351633</td>\n",
       "      <td>0.025494</td>\n",
       "      <td>0.035722</td>\n",
       "      <td>0.691022</td>\n",
       "      <td>1.968618</td>\n",
       "      <td>1.190395</td>\n",
       "      <td>0.407720</td>\n",
       "      <td>1.641166</td>\n",
       "      <td>0.674019</td>\n",
       "    </tr>\n",
       "    <tr>\n",
       "      <th>2162</th>\n",
       "      <td>1.438713</td>\n",
       "      <td>0.025494</td>\n",
       "      <td>0.527434</td>\n",
       "      <td>1.317692</td>\n",
       "      <td>1.968618</td>\n",
       "      <td>0.310197</td>\n",
       "      <td>0.793339</td>\n",
       "      <td>0.097251</td>\n",
       "      <td>1.483639</td>\n",
       "    </tr>\n",
       "    <tr>\n",
       "      <th>2163</th>\n",
       "      <td>0.351633</td>\n",
       "      <td>2.468873</td>\n",
       "      <td>1.977979</td>\n",
       "      <td>0.691022</td>\n",
       "      <td>1.513905</td>\n",
       "      <td>2.163246</td>\n",
       "      <td>0.636057</td>\n",
       "      <td>2.269333</td>\n",
       "      <td>0.674019</td>\n",
       "    </tr>\n",
       "  </tbody>\n",
       "</table>\n",
       "<p>2164 rows × 9 columns</p>\n",
       "</div>"
      ],
      "text/plain": [
       "             0         1         2         3         4         5         6  \\\n",
       "0     0.351633  0.025494  0.035722  1.537135  0.759658  0.541828  0.836670   \n",
       "1     0.238559  0.196545  0.035722  0.980096  0.759658  1.635504  0.450179   \n",
       "2     0.332788  0.025494  0.035722  0.771206  0.759658  0.958764  0.207544   \n",
       "3     0.351633  0.025494  0.035722  0.214167  0.718158  0.634481  0.407720   \n",
       "4     0.351633  1.085018  1.429115  1.537135  0.759658  0.477348  1.222725   \n",
       "...        ...       ...       ...       ...       ...       ...       ...   \n",
       "2159  0.351633  3.416577  1.843044  0.064353  0.036089  2.209572  1.379570   \n",
       "2160  0.062973  1.440407  0.729836  1.606765  1.214371  0.217545  1.222725   \n",
       "2161  0.351633  0.025494  0.035722  0.691022  1.968618  1.190395  0.407720   \n",
       "2162  1.438713  0.025494  0.527434  1.317692  1.968618  0.310197  0.793339   \n",
       "2163  0.351633  2.468873  1.977979  0.691022  1.513905  2.163246  0.636057   \n",
       "\n",
       "             7         8  \n",
       "0     0.929938  0.674019  \n",
       "1     1.762624  1.483639  \n",
       "2     0.005009  0.674019  \n",
       "3     0.487091  0.674019  \n",
       "4     0.915329  0.674019  \n",
       "...        ...       ...  \n",
       "2159  2.269333  0.674019  \n",
       "2160  0.491681  1.483639  \n",
       "2161  1.641166  0.674019  \n",
       "2162  0.097251  1.483639  \n",
       "2163  2.269333  0.674019  \n",
       "\n",
       "[2164 rows x 9 columns]"
      ]
     },
     "execution_count": 42,
     "metadata": {},
     "output_type": "execute_result"
    }
   ],
   "source": [
    "X = StandardScaler().fit_transform(X)\n",
    "pd.DataFrame(X).applymap(lambda x: abs(x))"
   ]
  },
  {
   "cell_type": "markdown",
   "metadata": {},
   "source": [
    "### Accuracy"
   ]
  },
  {
   "cell_type": "code",
   "execution_count": 43,
   "metadata": {},
   "outputs": [
    {
     "data": {
      "text/plain": [
       "0.6654343807763401"
      ]
     },
     "execution_count": 43,
     "metadata": {},
     "output_type": "execute_result"
    }
   ],
   "source": [
    "bnb = BernoulliNB()\n",
    "bnb_2 = bnb.fit(X_train, y_train)\n",
    "bnb_pred=bnb_2.predict(X_test)\n",
    "metrics.accuracy_score(y_test, bnb_pred)\n",
    "\n"
   ]
  },
  {
   "cell_type": "markdown",
   "metadata": {},
   "source": [
    "### Make prediction"
   ]
  },
  {
   "cell_type": "code",
   "execution_count": 44,
   "metadata": {},
   "outputs": [],
   "source": [
    "Prediction_nb=bnb_2.predict(df_normalized_t)"
   ]
  },
  {
   "cell_type": "markdown",
   "metadata": {},
   "source": [
    "### Generate CSV"
   ]
  },
  {
   "cell_type": "code",
   "execution_count": 63,
   "metadata": {},
   "outputs": [],
   "source": [
    "Prediction_clf=predict_clf.tolist()\n",
    "#final = pd.concat([Prediction_km, Prediction_hac, predict_clf], axis=1 )\n",
    "#final\n",
    "from pandas.core.frame import DataFrame\n",
    "\n",
    "c={'location': t2['Location'], \"kmean\" : Prediction_km, \"DT\":Prediction_clf}\n",
    "data=DataFrame(c)\n",
    "#change yes to 1, no to 0\n",
    "data=data.applymap(lambda x: 'Yes' if x == 1 else x)\n",
    "data=data.applymap(lambda x: 'No' if x == 0 else x)\n",
    "data.to_csv('final_prediction.csv')\n",
    "\n",
    "\n"
   ]
  },
  {
   "cell_type": "code",
   "execution_count": null,
   "metadata": {},
   "outputs": [],
   "source": []
  }
 ],
 "metadata": {
  "kernelspec": {
   "display_name": "Python 3",
   "language": "python",
   "name": "python3"
  },
  "language_info": {
   "codemirror_mode": {
    "name": "ipython",
    "version": 3
   },
   "file_extension": ".py",
   "mimetype": "text/x-python",
   "name": "python",
   "nbconvert_exporter": "python",
   "pygments_lexer": "ipython3",
   "version": "3.8.3"
  }
 },
 "nbformat": 4,
 "nbformat_minor": 4
}
