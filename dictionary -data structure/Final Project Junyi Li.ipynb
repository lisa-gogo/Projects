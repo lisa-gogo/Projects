{
 "cells": [
  {
   "cell_type": "markdown",
   "metadata": {},
   "source": [
    "## Keep Track of the Food in the Fridge"
   ]
  },
  {
   "cell_type": "markdown",
   "metadata": {},
   "source": [
    "I want to record the food changes in my fridge. I add new foods to the yeasterday amount, deduct consumed ones, then update new numbers, and save the data in the new CSV, so next day the system can read history record. Besides, In this little system, I can check the quantities of specific food left and the most food in the fridge.\n",
    "\n",
    "I set the refriderator as class and mainly use the hash mapping method, map the food as the keys and their number as values. I use different method below the class, such as 'brought', which update the new food I just brought. \n",
    "\n",
    "The python dict is a hashmap.The average time complexity is O(1).\n",
    "Additionally, Hashmaps have n keys and n elements (one for each key). This will give them make them have O(n) space .\n",
    "\n",
    "\n"
   ]
  },
  {
   "cell_type": "code",
   "execution_count": 1,
   "metadata": {},
   "outputs": [],
   "source": [
    "import csv\n",
    "class refrigerator(dict):  \n",
    "    # open csv file \n",
    "     def __init__(self):\n",
    "        try:\n",
    "            with open('mycsvfile.csv','r') as f:\n",
    "                reader = csv.reader(f)           \n",
    "                self.__dict__ = {rows[0]:rows[1] for rows in reader}\n",
    "        except: \n",
    "            open('mycsvfile.csv','w')\n",
    "    \n",
    "     def start(self):\n",
    "        print('Question')\n",
    "        print('............')\n",
    "        b1={1:'Record new food.',2:'Food Consumed',3:'How much left for specific food?',4:'Check Fridge and Save',5:'The most foods'}\n",
    "        for k, v in b1.items():\n",
    "            print(k, v)\n",
    "        print('............')\n",
    "        b2=input('\\nWhat do you want to do? Please enter:1,2 or 3.. \\n Answer:')\n",
    "        print('............')\n",
    "        if b2=='1':\n",
    "            return self.ask_f()\n",
    "        if b2=='2':\n",
    "            return self.ask_c()\n",
    "        if b2=='3':\n",
    "            return self.ask_l()\n",
    "        if b2=='4':\n",
    "            return self.Print_Save()\n",
    "        if b2=='5':\n",
    "            return self.the_most_food()\n",
    "\n",
    "    \n",
    "     def ask_f(self):\n",
    "            a=input('\\nOK! New food Name,please \\n Answer:')\n",
    "            b=input(f'How many?:-]  {a}\\n Answer:')\n",
    "            return self.brought(a,int(b))\n",
    "     \n",
    "     def  ask_c(self):\n",
    "            a=input('\\nWhat Food have been consumed?\\n Answer:')\n",
    "            b=input('\\nHow many?:-] \\n Answer:')\n",
    "            return self.consumed(a,int(b))\n",
    "     \n",
    "     def ask_l(self):\n",
    "            a=input('\\n What food do you want to check?')\n",
    "            return self.left_one_item(a)\n",
    "     \n",
    "    # the new food I just brought from market \n",
    "     def brought(self,food,quantity):\n",
    "        #quantity=input('how many you have brought?')\n",
    "        self.__dict__[food] = int(quantity) +int(self.__dict__.get(food,0))\n",
    "        new=input('\\n Any other new Food? If no, then enter None \\n Answer:')\n",
    "        if new =='None':\n",
    "            return\n",
    "        new_q=input('How many?'+new)\n",
    "        return self.brought(new, int(new_q))\n",
    "     \n",
    "     #the food I consumed today\n",
    "     def consumed(self,food, quantity):\n",
    "        self.__dict__[food]=int(self.__dict__.get(food,0))-int(quantity)\n",
    "    \n",
    "     def left_one_item(self, key):\n",
    "            a= self.__dict__[key]\n",
    "            print (a)\n",
    "            \n",
    "    #check food left in fridge and update CSV file \n",
    "    \n",
    "     def the_most_food(self):\n",
    "         \n",
    "            max_food = ''\n",
    "            max_count = 0\n",
    "            for (w,c) in self.__dict__.items():    # (key, value) tuples represent (word, count)\n",
    "                if int(c) > max_count:\n",
    "                    max_food = w\n",
    "                    max_count = int(c)\n",
    "            print('The most frequent food is', max_food)\n",
    "            print('Its quantity is', max_count)\n",
    "\n",
    "     \n",
    "     def Print_Save(self):\n",
    "        a=self.__dict__\n",
    "        print('Below is your list of foods left in fridge!')\n",
    "        for k, v in a.items():\n",
    "            print(k, v)\n",
    "       # b=['Food','Quantity']\n",
    "        with open('mycsvfile.csv','w') as f:\n",
    "            for k in a.keys():\n",
    "                f.write(\"%s,%s\\n\"%(k,a[k]))\n",
    "        f.close()"
   ]
  },
  {
   "cell_type": "code",
   "execution_count": 2,
   "metadata": {},
   "outputs": [],
   "source": [
    "go=refrigerator()"
   ]
  },
  {
   "cell_type": "code",
   "execution_count": 3,
   "metadata": {},
   "outputs": [
    {
     "name": "stdout",
     "output_type": "stream",
     "text": [
      "Question\n",
      "............\n",
      "1 Record new food.\n",
      "2 Food Consumed\n",
      "3 How much left for specific food?\n",
      "4 Check Fridge and Save\n",
      "5 The most foods\n",
      "............\n",
      "\n",
      "What do you want to do? Please enter:1,2 or 3.. \n",
      " Answer:1\n",
      "............\n",
      "\n",
      "OK! New food Name,please \n",
      " Answer:apple\n",
      "How many?:-]  apple\n",
      " Answer:5\n",
      "\n",
      " Any other new Food? If no, then enter None \n",
      " Answer:chocolate\n",
      "How many?chocolate5\n",
      "\n",
      " Any other new Food? If no, then enter None \n",
      " Answer:None\n"
     ]
    }
   ],
   "source": [
    "#record new food\n",
    "go.start()"
   ]
  },
  {
   "cell_type": "code",
   "execution_count": 4,
   "metadata": {},
   "outputs": [
    {
     "name": "stdout",
     "output_type": "stream",
     "text": [
      "Question\n",
      "............\n",
      "1 Record new food.\n",
      "2 Food Consumed\n",
      "3 How much left for specific food?\n",
      "4 Check Fridge and Save\n",
      "5 The most foods\n",
      "............\n",
      "\n",
      "What do you want to do? Please enter:1,2 or 3.. \n",
      " Answer:4\n",
      "............\n",
      "Below is your list of foods left in fridge!\n",
      "apple 5\n",
      "chocolate 5\n"
     ]
    }
   ],
   "source": [
    "#save to CSV file \n",
    "go.start()"
   ]
  },
  {
   "cell_type": "code",
   "execution_count": null,
   "metadata": {},
   "outputs": [],
   "source": []
  }
 ],
 "metadata": {
  "kernelspec": {
   "display_name": "Python 3",
   "language": "python",
   "name": "python3"
  },
  "language_info": {
   "codemirror_mode": {
    "name": "ipython",
    "version": 3
   },
   "file_extension": ".py",
   "mimetype": "text/x-python",
   "name": "python",
   "nbconvert_exporter": "python",
   "pygments_lexer": "ipython3",
   "version": "3.8.3"
  }
 },
 "nbformat": 4,
 "nbformat_minor": 4
}
